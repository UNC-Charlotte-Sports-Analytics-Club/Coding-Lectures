{
 "cells": [
  {
   "cell_type": "code",
   "execution_count": 2,
   "id": "159713fa",
   "metadata": {},
   "outputs": [
    {
     "name": "stdout",
     "output_type": "stream",
     "text": [
      "Requirement already satisfied: nfl_data_py in /opt/anaconda3/lib/python3.11/site-packages (0.3.1)\n",
      "Requirement already satisfied: pandas>1 in /opt/anaconda3/lib/python3.11/site-packages (from nfl_data_py) (2.1.4)\n",
      "Requirement already satisfied: appdirs>1 in /opt/anaconda3/lib/python3.11/site-packages (from nfl_data_py) (1.4.4)\n",
      "Requirement already satisfied: fastparquet>0.5 in /opt/anaconda3/lib/python3.11/site-packages (from nfl_data_py) (2024.5.0)\n",
      "Requirement already satisfied: python-snappy>0.5 in /opt/anaconda3/lib/python3.11/site-packages (from nfl_data_py) (0.6.1)\n",
      "Requirement already satisfied: numpy in /opt/anaconda3/lib/python3.11/site-packages (from fastparquet>0.5->nfl_data_py) (1.26.4)\n",
      "Requirement already satisfied: cramjam>=2.3 in /opt/anaconda3/lib/python3.11/site-packages (from fastparquet>0.5->nfl_data_py) (2.8.3)\n",
      "Requirement already satisfied: fsspec in /opt/anaconda3/lib/python3.11/site-packages (from fastparquet>0.5->nfl_data_py) (2023.10.0)\n",
      "Requirement already satisfied: packaging in /opt/anaconda3/lib/python3.11/site-packages (from fastparquet>0.5->nfl_data_py) (23.1)\n",
      "Requirement already satisfied: python-dateutil>=2.8.2 in /opt/anaconda3/lib/python3.11/site-packages (from pandas>1->nfl_data_py) (2.8.2)\n",
      "Requirement already satisfied: pytz>=2020.1 in /opt/anaconda3/lib/python3.11/site-packages (from pandas>1->nfl_data_py) (2023.3.post1)\n",
      "Requirement already satisfied: tzdata>=2022.1 in /opt/anaconda3/lib/python3.11/site-packages (from pandas>1->nfl_data_py) (2023.3)\n",
      "Requirement already satisfied: six>=1.5 in /opt/anaconda3/lib/python3.11/site-packages (from python-dateutil>=2.8.2->pandas>1->nfl_data_py) (1.16.0)\n",
      "Note: you may need to restart the kernel to use updated packages.\n"
     ]
    }
   ],
   "source": [
    "%pip install nfl_data_py"
   ]
  },
  {
   "cell_type": "code",
   "execution_count": 1,
   "id": "ce21cb20",
   "metadata": {},
   "outputs": [],
   "source": [
    "import nfl_data_py as nfl\n",
    "import numpy as np"
   ]
  },
  {
   "cell_type": "code",
   "execution_count": 2,
   "id": "46a5f7cd",
   "metadata": {},
   "outputs": [
    {
     "name": "stdout",
     "output_type": "stream",
     "text": [
      "2000 done.\n",
      "2001 done.\n",
      "2002 done.\n",
      "2003 done.\n",
      "2004 done.\n",
      "2005 done.\n",
      "2006 done.\n",
      "2007 done.\n",
      "2008 done.\n",
      "2009 done.\n",
      "2010 done.\n",
      "2011 done.\n",
      "2012 done.\n",
      "2013 done.\n",
      "2014 done.\n",
      "2015 done.\n",
      "2016 done.\n",
      "2017 done.\n",
      "2018 done.\n",
      "2019 done.\n",
      "2020 done.\n",
      "Downcasting floats.\n"
     ]
    }
   ],
   "source": [
    "df = nfl.import_pbp_data(list(range(2000, 2021)))"
   ]
  },
  {
   "cell_type": "code",
   "execution_count": 3,
   "id": "570d818f",
   "metadata": {},
   "outputs": [
    {
     "name": "stderr",
     "output_type": "stream",
     "text": [
      "/var/folders/0m/p03jcv9j4td3thddmd99m0300000gp/T/ipykernel_59191/4024926356.py:1: PerformanceWarning: DataFrame is highly fragmented.  This is usually the result of calling `frame.insert` many times, which has poor performance.  Consider joining all columns at once using pd.concat(axis=1) instead. To get a de-fragmented frame, use `newframe = frame.copy()`\n",
      "  df['label'] = np.select(\n",
      "/var/folders/0m/p03jcv9j4td3thddmd99m0300000gp/T/ipykernel_59191/4024926356.py:9: PerformanceWarning: DataFrame is highly fragmented.  This is usually the result of calling `frame.insert` many times, which has poor performance.  Consider joining all columns at once using pd.concat(axis=1) instead. To get a de-fragmented frame, use `newframe = frame.copy()`\n",
      "  df['is_home'] = (df['posteam'] == df['home_team']).astype(int)\n"
     ]
    }
   ],
   "source": [
    "df['label'] = np.select(\n",
    "                        [\n",
    "                            (df['result'] > 0) & (df['posteam'] == df['home_team']),\n",
    "                            (df['result'] < 0) & (df['posteam'] == df['away_team'])\n",
    "                        ],\n",
    "                        [1, 1],\n",
    "                        default = 0\n",
    "                       )\n",
    "df['is_home'] = (df['posteam'] == df['home_team']).astype(int)\n"
   ]
  },
  {
   "cell_type": "code",
   "execution_count": 4,
   "id": "47978a21",
   "metadata": {},
   "outputs": [
    {
     "name": "stderr",
     "output_type": "stream",
     "text": [
      "/var/folders/0m/p03jcv9j4td3thddmd99m0300000gp/T/ipykernel_59191/2883950221.py:4: PerformanceWarning: DataFrame is highly fragmented.  This is usually the result of calling `frame.insert` many times, which has poor performance.  Consider joining all columns at once using pd.concat(axis=1) instead. To get a de-fragmented frame, use `newframe = frame.copy()`\n",
      "  df.loc[(df['qtr'] <= 2) & (df['posteam'] == df['defteam'].dropna().iloc[0]), 'recieve_2h_ko'] = 1\n",
      "/var/folders/0m/p03jcv9j4td3thddmd99m0300000gp/T/ipykernel_59191/2883950221.py:8: PerformanceWarning: DataFrame is highly fragmented.  This is usually the result of calling `frame.insert` many times, which has poor performance.  Consider joining all columns at once using pd.concat(axis=1) instead. To get a de-fragmented frame, use `newframe = frame.copy()`\n",
      "  df['posteam_spread'] = np.where(df['is_home'] == 1, df['spread_line'], -1 * df['spread_line'])\n",
      "/var/folders/0m/p03jcv9j4td3thddmd99m0300000gp/T/ipykernel_59191/2883950221.py:9: PerformanceWarning: DataFrame is highly fragmented.  This is usually the result of calling `frame.insert` many times, which has poor performance.  Consider joining all columns at once using pd.concat(axis=1) instead. To get a de-fragmented frame, use `newframe = frame.copy()`\n",
      "  df['elapsed_share'] = (3600 - df['game_seconds_remaining']) / 3600\n",
      "/var/folders/0m/p03jcv9j4td3thddmd99m0300000gp/T/ipykernel_59191/2883950221.py:12: PerformanceWarning: DataFrame is highly fragmented.  This is usually the result of calling `frame.insert` many times, which has poor performance.  Consider joining all columns at once using pd.concat(axis=1) instead. To get a de-fragmented frame, use `newframe = frame.copy()`\n",
      "  df['spread_time'] = df['posteam_spread'] * np.exp(-4*df['elapsed_share']) # Weights the posteam spread over time\n"
     ]
    }
   ],
   "source": [
    "df = df[(df['result'] != 0) & (df['qtr'] <= 4)]\n",
    "\n",
    "# If the starting posteam recieves the second half kick off\n",
    "df.loc[(df['qtr'] <= 2) & (df['posteam'] == df['defteam'].dropna().iloc[0]), 'recieve_2h_ko'] = 1\n",
    "df.loc[~((df['qtr'] <= 2) & (df['posteam'] == df['defteam'].dropna().iloc[0])), 'recieve_2h_ko'] = 0\n",
    "\n",
    "# Convert to the posteam for spread\n",
    "df['posteam_spread'] = np.where(df['is_home'] == 1, df['spread_line'], -1 * df['spread_line'])\n",
    "df['elapsed_share'] = (3600 - df['game_seconds_remaining']) / 3600\n",
    "\n",
    "# Exponential decay of the spread. It weighs more towards the start\n",
    "df['spread_time'] = df['posteam_spread'] * np.exp(-4*df['elapsed_share']) # Weights the posteam spread over time\n",
    "\n"
   ]
  },
  {
   "cell_type": "code",
   "execution_count": 16,
   "id": "056e1813",
   "metadata": {},
   "outputs": [],
   "source": [
    "model_data = df[[\n",
    "    # Explanatory variables\n",
    "    'label', 'game_id', 'season',\n",
    "    \n",
    "    \n",
    "    # Features\n",
    "    'recieve_2h_ko', 'spread_time', 'is_home', 'half_seconds_remaining', 'game_seconds_remaining', \n",
    "    'score_differential','down', 'ydstogo', 'yardline_100', \n",
    "    'posteam_timeouts_remaining', 'defteam_timeouts_remaining'\n",
    "    \n",
    "    \n",
    "]]"
   ]
  },
  {
   "cell_type": "code",
   "execution_count": 22,
   "id": "c771c0c4",
   "metadata": {},
   "outputs": [
    {
     "name": "stderr",
     "output_type": "stream",
     "text": [
      "/var/folders/0m/p03jcv9j4td3thddmd99m0300000gp/T/ipykernel_59191/70319802.py:1: SettingWithCopyWarning: \n",
      "A value is trying to be set on a copy of a slice from a DataFrame\n",
      "\n",
      "See the caveats in the documentation: https://pandas.pydata.org/pandas-docs/stable/user_guide/indexing.html#returning-a-view-versus-a-copy\n",
      "  model_data.dropna(inplace=True)\n"
     ]
    }
   ],
   "source": [
    "model_data.dropna(inplace=True)\n",
    "model_data.reset_index(drop=True, inplace=True)"
   ]
  },
  {
   "cell_type": "code",
   "execution_count": 25,
   "id": "2b855d0c",
   "metadata": {},
   "outputs": [],
   "source": [
    "import pandas as pd\n",
    "model_data = pd.read_csv('nfl-pred-data.csv')"
   ]
  },
  {
   "cell_type": "code",
   "execution_count": null,
   "id": "e51ff5bb",
   "metadata": {},
   "outputs": [],
   "source": []
  },
  {
   "cell_type": "code",
   "execution_count": null,
   "id": "be54c6c0",
   "metadata": {},
   "outputs": [],
   "source": []
  }
 ],
 "metadata": {
  "kernelspec": {
   "display_name": "Python 3 (ipykernel)",
   "language": "python",
   "name": "python3"
  },
  "language_info": {
   "codemirror_mode": {
    "name": "ipython",
    "version": 3
   },
   "file_extension": ".py",
   "mimetype": "text/x-python",
   "name": "python",
   "nbconvert_exporter": "python",
   "pygments_lexer": "ipython3",
   "version": "3.11.7"
  }
 },
 "nbformat": 4,
 "nbformat_minor": 5
}
