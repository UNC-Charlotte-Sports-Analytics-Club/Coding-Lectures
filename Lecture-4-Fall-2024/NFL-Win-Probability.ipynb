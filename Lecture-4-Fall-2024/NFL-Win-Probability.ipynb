{
 "cells": [
  {
   "cell_type": "code",
   "execution_count": 2,
   "id": "159713fa",
   "metadata": {},
   "outputs": [
    {
     "name": "stdout",
     "output_type": "stream",
     "text": [
      "Requirement already satisfied: nfl_data_py in /opt/anaconda3/lib/python3.11/site-packages (0.3.1)\n",
      "Requirement already satisfied: pandas>1 in /opt/anaconda3/lib/python3.11/site-packages (from nfl_data_py) (2.1.4)\n",
      "Requirement already satisfied: appdirs>1 in /opt/anaconda3/lib/python3.11/site-packages (from nfl_data_py) (1.4.4)\n",
      "Requirement already satisfied: fastparquet>0.5 in /opt/anaconda3/lib/python3.11/site-packages (from nfl_data_py) (2024.5.0)\n",
      "Requirement already satisfied: python-snappy>0.5 in /opt/anaconda3/lib/python3.11/site-packages (from nfl_data_py) (0.6.1)\n",
      "Requirement already satisfied: numpy in /opt/anaconda3/lib/python3.11/site-packages (from fastparquet>0.5->nfl_data_py) (1.26.4)\n",
      "Requirement already satisfied: cramjam>=2.3 in /opt/anaconda3/lib/python3.11/site-packages (from fastparquet>0.5->nfl_data_py) (2.8.3)\n",
      "Requirement already satisfied: fsspec in /opt/anaconda3/lib/python3.11/site-packages (from fastparquet>0.5->nfl_data_py) (2023.10.0)\n",
      "Requirement already satisfied: packaging in /opt/anaconda3/lib/python3.11/site-packages (from fastparquet>0.5->nfl_data_py) (23.1)\n",
      "Requirement already satisfied: python-dateutil>=2.8.2 in /opt/anaconda3/lib/python3.11/site-packages (from pandas>1->nfl_data_py) (2.8.2)\n",
      "Requirement already satisfied: pytz>=2020.1 in /opt/anaconda3/lib/python3.11/site-packages (from pandas>1->nfl_data_py) (2023.3.post1)\n",
      "Requirement already satisfied: tzdata>=2022.1 in /opt/anaconda3/lib/python3.11/site-packages (from pandas>1->nfl_data_py) (2023.3)\n",
      "Requirement already satisfied: six>=1.5 in /opt/anaconda3/lib/python3.11/site-packages (from python-dateutil>=2.8.2->pandas>1->nfl_data_py) (1.16.0)\n",
      "Note: you may need to restart the kernel to use updated packages.\n"
     ]
    }
   ],
   "source": [
    "%pip install nfl_data_py"
   ]
  },
  {
   "cell_type": "code",
   "execution_count": 1,
   "id": "ce21cb20",
   "metadata": {},
   "outputs": [],
   "source": [
    "import nfl_data_py as nfl\n",
    "import numpy as np"
   ]
  },
  {
   "cell_type": "code",
   "execution_count": 2,
   "id": "46a5f7cd",
   "metadata": {},
   "outputs": [
    {
     "name": "stdout",
     "output_type": "stream",
     "text": [
      "2000 done.\n",
      "2001 done.\n",
      "2002 done.\n",
      "2003 done.\n",
      "2004 done.\n",
      "2005 done.\n",
      "2006 done.\n",
      "2007 done.\n",
      "2008 done.\n",
      "2009 done.\n",
      "2010 done.\n",
      "2011 done.\n",
      "2012 done.\n",
      "2013 done.\n",
      "2014 done.\n",
      "2015 done.\n",
      "2016 done.\n",
      "2017 done.\n",
      "2018 done.\n",
      "2019 done.\n",
      "2020 done.\n",
      "Downcasting floats.\n"
     ]
    }
   ],
   "source": [
    "df = nfl.import_pbp_data(list(range(2000, 2021)))"
   ]
  },
  {
   "cell_type": "code",
   "execution_count": 3,
   "id": "570d818f",
   "metadata": {},
   "outputs": [
    {
     "name": "stderr",
     "output_type": "stream",
     "text": [
      "/var/folders/0m/p03jcv9j4td3thddmd99m0300000gp/T/ipykernel_59191/4024926356.py:1: PerformanceWarning: DataFrame is highly fragmented.  This is usually the result of calling `frame.insert` many times, which has poor performance.  Consider joining all columns at once using pd.concat(axis=1) instead. To get a de-fragmented frame, use `newframe = frame.copy()`\n",
      "  df['label'] = np.select(\n",
      "/var/folders/0m/p03jcv9j4td3thddmd99m0300000gp/T/ipykernel_59191/4024926356.py:9: PerformanceWarning: DataFrame is highly fragmented.  This is usually the result of calling `frame.insert` many times, which has poor performance.  Consider joining all columns at once using pd.concat(axis=1) instead. To get a de-fragmented frame, use `newframe = frame.copy()`\n",
      "  df['is_home'] = (df['posteam'] == df['home_team']).astype(int)\n"
     ]
    }
   ],
   "source": [
    "df['label'] = np.select(\n",
    "                        [\n",
    "                            (df['result'] > 0) & (df['posteam'] == df['home_team']),\n",
    "                            (df['result'] < 0) & (df['posteam'] == df['away_team'])\n",
    "                        ],\n",
    "                        [1, 1],\n",
    "                        default = 0\n",
    "                       )\n",
    "df['is_home'] = (df['posteam'] == df['home_team']).astype(int)\n"
   ]
  },
  {
   "cell_type": "code",
   "execution_count": 4,
   "id": "47978a21",
   "metadata": {},
   "outputs": [
    {
     "name": "stderr",
     "output_type": "stream",
     "text": [
      "/var/folders/0m/p03jcv9j4td3thddmd99m0300000gp/T/ipykernel_59191/2883950221.py:4: PerformanceWarning: DataFrame is highly fragmented.  This is usually the result of calling `frame.insert` many times, which has poor performance.  Consider joining all columns at once using pd.concat(axis=1) instead. To get a de-fragmented frame, use `newframe = frame.copy()`\n",
      "  df.loc[(df['qtr'] <= 2) & (df['posteam'] == df['defteam'].dropna().iloc[0]), 'recieve_2h_ko'] = 1\n",
      "/var/folders/0m/p03jcv9j4td3thddmd99m0300000gp/T/ipykernel_59191/2883950221.py:8: PerformanceWarning: DataFrame is highly fragmented.  This is usually the result of calling `frame.insert` many times, which has poor performance.  Consider joining all columns at once using pd.concat(axis=1) instead. To get a de-fragmented frame, use `newframe = frame.copy()`\n",
      "  df['posteam_spread'] = np.where(df['is_home'] == 1, df['spread_line'], -1 * df['spread_line'])\n",
      "/var/folders/0m/p03jcv9j4td3thddmd99m0300000gp/T/ipykernel_59191/2883950221.py:9: PerformanceWarning: DataFrame is highly fragmented.  This is usually the result of calling `frame.insert` many times, which has poor performance.  Consider joining all columns at once using pd.concat(axis=1) instead. To get a de-fragmented frame, use `newframe = frame.copy()`\n",
      "  df['elapsed_share'] = (3600 - df['game_seconds_remaining']) / 3600\n",
      "/var/folders/0m/p03jcv9j4td3thddmd99m0300000gp/T/ipykernel_59191/2883950221.py:12: PerformanceWarning: DataFrame is highly fragmented.  This is usually the result of calling `frame.insert` many times, which has poor performance.  Consider joining all columns at once using pd.concat(axis=1) instead. To get a de-fragmented frame, use `newframe = frame.copy()`\n",
      "  df['spread_time'] = df['posteam_spread'] * np.exp(-4*df['elapsed_share']) # Weights the posteam spread over time\n"
     ]
    }
   ],
   "source": [
    "df = df[(df['result'] != 0) & (df['qtr'] <= 4)]\n",
    "\n",
    "# If the starting posteam recieves the second half kick off\n",
    "df.loc[(df['qtr'] <= 2) & (df['posteam'] == df['defteam'].dropna().iloc[0]), 'recieve_2h_ko'] = 1\n",
    "df.loc[~((df['qtr'] <= 2) & (df['posteam'] == df['defteam'].dropna().iloc[0])), 'recieve_2h_ko'] = 0\n",
    "\n",
    "# Convert to the posteam for spread\n",
    "df['posteam_spread'] = np.where(df['is_home'] == 1, df['spread_line'], -1 * df['spread_line'])\n",
    "df['elapsed_share'] = (3600 - df['game_seconds_remaining']) / 3600\n",
    "\n",
    "# Exponential decay of the spread. It weighs more towards the start\n",
    "df['spread_time'] = df['posteam_spread'] * np.exp(-4*df['elapsed_share']) # Weights the posteam spread over time\n",
    "\n"
   ]
  },
  {
   "cell_type": "code",
   "execution_count": 16,
   "id": "056e1813",
   "metadata": {},
   "outputs": [],
   "source": [
    "model_data = df[[\n",
    "    # Explanatory variables\n",
    "    'label', 'game_id', 'season',\n",
    "    \n",
    "    \n",
    "    # Features\n",
    "    'recieve_2h_ko', 'spread_time', 'is_home', 'half_seconds_remaining', 'game_seconds_remaining', \n",
    "    'score_differential','down', 'ydstogo', 'yardline_100', \n",
    "    'posteam_timeouts_remaining', 'defteam_timeouts_remaining'\n",
    "    \n",
    "    \n",
    "]]"
   ]
  },
  {
   "cell_type": "code",
   "execution_count": 22,
   "id": "c771c0c4",
   "metadata": {},
   "outputs": [
    {
     "name": "stderr",
     "output_type": "stream",
     "text": [
      "/var/folders/0m/p03jcv9j4td3thddmd99m0300000gp/T/ipykernel_59191/70319802.py:1: SettingWithCopyWarning: \n",
      "A value is trying to be set on a copy of a slice from a DataFrame\n",
      "\n",
      "See the caveats in the documentation: https://pandas.pydata.org/pandas-docs/stable/user_guide/indexing.html#returning-a-view-versus-a-copy\n",
      "  model_data.dropna(inplace=True)\n"
     ]
    }
   ],
   "source": [
    "model_data.dropna(inplace=True)\n",
    "model_data.reset_index(drop=True, inplace=True)"
   ]
  },
  {
   "cell_type": "code",
   "execution_count": 2,
   "id": "2b855d0c",
   "metadata": {},
   "outputs": [],
   "source": [
    "import pandas as pd\n",
    "model_data = pd.read_csv('nfl-pred-data.csv')"
   ]
  },
  {
   "cell_type": "code",
   "execution_count": 4,
   "id": "e51ff5bb",
   "metadata": {},
   "outputs": [
    {
     "name": "stdout",
     "output_type": "stream",
     "text": [
      "<class 'pandas.core.frame.DataFrame'>\n",
      "RangeIndex: 825980 entries, 0 to 825979\n",
      "Data columns (total 14 columns):\n",
      " #   Column                      Non-Null Count   Dtype  \n",
      "---  ------                      --------------   -----  \n",
      " 0   label                       825980 non-null  int64  \n",
      " 1   game_id                     825980 non-null  object \n",
      " 2   season                      825980 non-null  int64  \n",
      " 3   recieve_2h_ko               825980 non-null  float64\n",
      " 4   spread_time                 825980 non-null  float64\n",
      " 5   is_home                     825980 non-null  int64  \n",
      " 6   half_seconds_remaining      825980 non-null  float64\n",
      " 7   game_seconds_remaining      825980 non-null  float64\n",
      " 8   score_differential          825980 non-null  float64\n",
      " 9   down                        825980 non-null  float64\n",
      " 10  ydstogo                     825980 non-null  float64\n",
      " 11  yardline_100                825980 non-null  float64\n",
      " 12  posteam_timeouts_remaining  825980 non-null  float64\n",
      " 13  defteam_timeouts_remaining  825980 non-null  float64\n",
      "dtypes: float64(10), int64(3), object(1)\n",
      "memory usage: 88.2+ MB\n"
     ]
    }
   ],
   "source": [
    "model_data.info()"
   ]
  },
  {
   "cell_type": "code",
   "execution_count": 5,
   "id": "be54c6c0",
   "metadata": {},
   "outputs": [
    {
     "data": {
      "text/html": [
       "<div>\n",
       "<style scoped>\n",
       "    .dataframe tbody tr th:only-of-type {\n",
       "        vertical-align: middle;\n",
       "    }\n",
       "\n",
       "    .dataframe tbody tr th {\n",
       "        vertical-align: top;\n",
       "    }\n",
       "\n",
       "    .dataframe thead th {\n",
       "        text-align: right;\n",
       "    }\n",
       "</style>\n",
       "<table border=\"1\" class=\"dataframe\">\n",
       "  <thead>\n",
       "    <tr style=\"text-align: right;\">\n",
       "      <th></th>\n",
       "      <th>label</th>\n",
       "      <th>season</th>\n",
       "      <th>recieve_2h_ko</th>\n",
       "      <th>spread_time</th>\n",
       "      <th>is_home</th>\n",
       "      <th>half_seconds_remaining</th>\n",
       "      <th>game_seconds_remaining</th>\n",
       "      <th>score_differential</th>\n",
       "      <th>down</th>\n",
       "      <th>ydstogo</th>\n",
       "      <th>yardline_100</th>\n",
       "      <th>posteam_timeouts_remaining</th>\n",
       "      <th>defteam_timeouts_remaining</th>\n",
       "    </tr>\n",
       "  </thead>\n",
       "  <tbody>\n",
       "    <tr>\n",
       "      <th>count</th>\n",
       "      <td>825980.000000</td>\n",
       "      <td>825980.000000</td>\n",
       "      <td>825980.000000</td>\n",
       "      <td>825980.000000</td>\n",
       "      <td>825980.000000</td>\n",
       "      <td>825980.000000</td>\n",
       "      <td>825980.000000</td>\n",
       "      <td>825980.000000</td>\n",
       "      <td>825980.000000</td>\n",
       "      <td>825980.000000</td>\n",
       "      <td>825980.000000</td>\n",
       "      <td>825980.000000</td>\n",
       "      <td>825980.000000</td>\n",
       "    </tr>\n",
       "    <tr>\n",
       "      <th>mean</th>\n",
       "      <td>0.506740</td>\n",
       "      <td>2010.052588</td>\n",
       "      <td>0.016002</td>\n",
       "      <td>0.024016</td>\n",
       "      <td>0.501619</td>\n",
       "      <td>841.178009</td>\n",
       "      <td>1742.001758</td>\n",
       "      <td>-1.219128</td>\n",
       "      <td>2.004084</td>\n",
       "      <td>8.573574</td>\n",
       "      <td>51.677082</td>\n",
       "      <td>2.534330</td>\n",
       "      <td>2.555625</td>\n",
       "    </tr>\n",
       "    <tr>\n",
       "      <th>std</th>\n",
       "      <td>0.499955</td>\n",
       "      <td>6.040141</td>\n",
       "      <td>0.125481</td>\n",
       "      <td>2.179396</td>\n",
       "      <td>0.499998</td>\n",
       "      <td>543.181983</td>\n",
       "      <td>1045.883784</td>\n",
       "      <td>10.829659</td>\n",
       "      <td>1.006519</td>\n",
       "      <td>4.096829</td>\n",
       "      <td>24.388046</td>\n",
       "      <td>0.772454</td>\n",
       "      <td>0.741000</td>\n",
       "    </tr>\n",
       "    <tr>\n",
       "      <th>min</th>\n",
       "      <td>0.000000</td>\n",
       "      <td>2000.000000</td>\n",
       "      <td>0.000000</td>\n",
       "      <td>-27.000000</td>\n",
       "      <td>0.000000</td>\n",
       "      <td>0.000000</td>\n",
       "      <td>0.000000</td>\n",
       "      <td>-59.000000</td>\n",
       "      <td>1.000000</td>\n",
       "      <td>1.000000</td>\n",
       "      <td>1.000000</td>\n",
       "      <td>0.000000</td>\n",
       "      <td>0.000000</td>\n",
       "    </tr>\n",
       "    <tr>\n",
       "      <th>25%</th>\n",
       "      <td>0.000000</td>\n",
       "      <td>2005.000000</td>\n",
       "      <td>0.000000</td>\n",
       "      <td>-0.520068</td>\n",
       "      <td>0.000000</td>\n",
       "      <td>345.000000</td>\n",
       "      <td>843.000000</td>\n",
       "      <td>-7.000000</td>\n",
       "      <td>1.000000</td>\n",
       "      <td>6.000000</td>\n",
       "      <td>33.000000</td>\n",
       "      <td>2.000000</td>\n",
       "      <td>2.000000</td>\n",
       "    </tr>\n",
       "    <tr>\n",
       "      <th>50%</th>\n",
       "      <td>1.000000</td>\n",
       "      <td>2010.000000</td>\n",
       "      <td>0.000000</td>\n",
       "      <td>0.022148</td>\n",
       "      <td>1.000000</td>\n",
       "      <td>835.000000</td>\n",
       "      <td>1801.000000</td>\n",
       "      <td>0.000000</td>\n",
       "      <td>2.000000</td>\n",
       "      <td>10.000000</td>\n",
       "      <td>55.000000</td>\n",
       "      <td>3.000000</td>\n",
       "      <td>3.000000</td>\n",
       "    </tr>\n",
       "    <tr>\n",
       "      <th>75%</th>\n",
       "      <td>1.000000</td>\n",
       "      <td>2015.000000</td>\n",
       "      <td>0.000000</td>\n",
       "      <td>0.564060</td>\n",
       "      <td>1.000000</td>\n",
       "      <td>1312.000000</td>\n",
       "      <td>2630.000000</td>\n",
       "      <td>4.000000</td>\n",
       "      <td>3.000000</td>\n",
       "      <td>10.000000</td>\n",
       "      <td>72.000000</td>\n",
       "      <td>3.000000</td>\n",
       "      <td>3.000000</td>\n",
       "    </tr>\n",
       "    <tr>\n",
       "      <th>max</th>\n",
       "      <td>1.000000</td>\n",
       "      <td>2020.000000</td>\n",
       "      <td>1.000000</td>\n",
       "      <td>25.569300</td>\n",
       "      <td>1.000000</td>\n",
       "      <td>1800.000000</td>\n",
       "      <td>3600.000000</td>\n",
       "      <td>59.000000</td>\n",
       "      <td>4.000000</td>\n",
       "      <td>50.000000</td>\n",
       "      <td>99.000000</td>\n",
       "      <td>3.000000</td>\n",
       "      <td>3.000000</td>\n",
       "    </tr>\n",
       "  </tbody>\n",
       "</table>\n",
       "</div>"
      ],
      "text/plain": [
       "               label         season  recieve_2h_ko    spread_time  \\\n",
       "count  825980.000000  825980.000000  825980.000000  825980.000000   \n",
       "mean        0.506740    2010.052588       0.016002       0.024016   \n",
       "std         0.499955       6.040141       0.125481       2.179396   \n",
       "min         0.000000    2000.000000       0.000000     -27.000000   \n",
       "25%         0.000000    2005.000000       0.000000      -0.520068   \n",
       "50%         1.000000    2010.000000       0.000000       0.022148   \n",
       "75%         1.000000    2015.000000       0.000000       0.564060   \n",
       "max         1.000000    2020.000000       1.000000      25.569300   \n",
       "\n",
       "             is_home  half_seconds_remaining  game_seconds_remaining  \\\n",
       "count  825980.000000           825980.000000           825980.000000   \n",
       "mean        0.501619              841.178009             1742.001758   \n",
       "std         0.499998              543.181983             1045.883784   \n",
       "min         0.000000                0.000000                0.000000   \n",
       "25%         0.000000              345.000000              843.000000   \n",
       "50%         1.000000              835.000000             1801.000000   \n",
       "75%         1.000000             1312.000000             2630.000000   \n",
       "max         1.000000             1800.000000             3600.000000   \n",
       "\n",
       "       score_differential           down        ydstogo   yardline_100  \\\n",
       "count       825980.000000  825980.000000  825980.000000  825980.000000   \n",
       "mean            -1.219128       2.004084       8.573574      51.677082   \n",
       "std             10.829659       1.006519       4.096829      24.388046   \n",
       "min            -59.000000       1.000000       1.000000       1.000000   \n",
       "25%             -7.000000       1.000000       6.000000      33.000000   \n",
       "50%              0.000000       2.000000      10.000000      55.000000   \n",
       "75%              4.000000       3.000000      10.000000      72.000000   \n",
       "max             59.000000       4.000000      50.000000      99.000000   \n",
       "\n",
       "       posteam_timeouts_remaining  defteam_timeouts_remaining  \n",
       "count               825980.000000               825980.000000  \n",
       "mean                     2.534330                    2.555625  \n",
       "std                      0.772454                    0.741000  \n",
       "min                      0.000000                    0.000000  \n",
       "25%                      2.000000                    2.000000  \n",
       "50%                      3.000000                    3.000000  \n",
       "75%                      3.000000                    3.000000  \n",
       "max                      3.000000                    3.000000  "
      ]
     },
     "execution_count": 5,
     "metadata": {},
     "output_type": "execute_result"
    }
   ],
   "source": [
    "model_data.describe()"
   ]
  },
  {
   "cell_type": "code",
   "execution_count": 6,
   "id": "6c17895e",
   "metadata": {},
   "outputs": [],
   "source": [
    "train_data = model_data[model_data['season'] < 2019]\n",
    "test_data = model_data[model_data['season'] >= 2019]"
   ]
  },
  {
   "cell_type": "code",
   "execution_count": 24,
   "id": "c242a78a",
   "metadata": {},
   "outputs": [
    {
     "data": {
      "text/plain": [
       "Index(['recieve_2h_ko', 'spread_time', 'is_home', 'half_seconds_remaining',\n",
       "       'game_seconds_remaining', 'score_differential', 'down', 'ydstogo',\n",
       "       'yardline_100', 'posteam_timeouts_remaining',\n",
       "       'defteam_timeouts_remaining'],\n",
       "      dtype='object')"
      ]
     },
     "execution_count": 24,
     "metadata": {},
     "output_type": "execute_result"
    }
   ],
   "source": [
    "X.columns"
   ]
  },
  {
   "cell_type": "code",
   "execution_count": 30,
   "id": "071cf845",
   "metadata": {},
   "outputs": [],
   "source": [
    "from xgboost import XGBClassifier\n",
    "from sklearn.model_selection import GroupKFold\n",
    "from sklearn.metrics import accuracy_score\n",
    "\n",
    "\n",
    "model = XGBClassifier(objective = 'binary:logistic', eval_metric = 'logloss',\n",
    "                     monotone_constraints = (0, 0, 0, 0, 0, 1, -1, -1, -1, 1, -1))\n",
    "groups = train_data['game_id']\n",
    "\n",
    "X = train_data.drop(columns=['label', 'game_id', 'season'])\n",
    "y = train_data['label']\n",
    "\n",
    "\n",
    "folds = GroupKFold(n_splits = 5)\n",
    "scores = []\n",
    "\n",
    "for train_idx, test_idx in folds.split(X, y, groups = groups):\n",
    "    X_train, X_test = X.iloc[train_idx], X.iloc[test_idx]\n",
    "    y_train, y_test = y.iloc[train_idx], y.iloc[test_idx]\n",
    "    \n",
    "    model.fit(X_train, y_train)\n",
    "    \n",
    "    y_pred = model.predict(X_test)\n",
    "    \n",
    "    score = accuracy_score(y_test, y_pred)\n",
    "    \n",
    "    scores.append(score)\n",
    "    \n",
    "\n"
   ]
  },
  {
   "cell_type": "code",
   "execution_count": 27,
   "id": "be3acc52",
   "metadata": {},
   "outputs": [
    {
     "data": {
      "text/plain": [
       "[0.7715215382761345,\n",
       " 0.7746244074877481,\n",
       " 0.7719582493656394,\n",
       " 0.7778216681619153,\n",
       " 0.7789187778885328]"
      ]
     },
     "execution_count": 27,
     "metadata": {},
     "output_type": "execute_result"
    }
   ],
   "source": [
    "scores"
   ]
  },
  {
   "cell_type": "code",
   "execution_count": 28,
   "id": "4933d806",
   "metadata": {},
   "outputs": [
    {
     "data": {
      "text/plain": [
       "0.774968928235994"
      ]
     },
     "execution_count": 28,
     "metadata": {},
     "output_type": "execute_result"
    }
   ],
   "source": [
    "sum(scores) / len(scores)"
   ]
  },
  {
   "cell_type": "code",
   "execution_count": null,
   "id": "a9deb998",
   "metadata": {},
   "outputs": [],
   "source": []
  }
 ],
 "metadata": {
  "kernelspec": {
   "display_name": "Python 3 (ipykernel)",
   "language": "python",
   "name": "python3"
  },
  "language_info": {
   "codemirror_mode": {
    "name": "ipython",
    "version": 3
   },
   "file_extension": ".py",
   "mimetype": "text/x-python",
   "name": "python",
   "nbconvert_exporter": "python",
   "pygments_lexer": "ipython3",
   "version": "3.11.7"
  }
 },
 "nbformat": 4,
 "nbformat_minor": 5
}
