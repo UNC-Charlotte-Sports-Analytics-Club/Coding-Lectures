{
 "cells": [
  {
   "cell_type": "code",
   "execution_count": 1,
   "id": "2701c2ea",
   "metadata": {},
   "outputs": [],
   "source": [
    "import pandas as pd\n",
    "import pybaseball\n",
    "\n",
    "# Optional: from pybaseball import standings"
   ]
  },
  {
   "cell_type": "code",
   "execution_count": 2,
   "id": "c2351b2c",
   "metadata": {},
   "outputs": [],
   "source": [
    "reg_wins = pd.concat(pybaseball.standings(), ignore_index = True)"
   ]
  },
  {
   "cell_type": "code",
   "execution_count": 5,
   "id": "606a6870",
   "metadata": {},
   "outputs": [],
   "source": [
    "vegas = pd.concat(pd.read_html('https://www.covers.com/mlb/win-totals-odds'), ignore_index = True, axis = 0)"
   ]
  },
  {
   "cell_type": "code",
   "execution_count": 33,
   "id": "4a5a6a20",
   "metadata": {},
   "outputs": [
    {
     "data": {
      "text/html": [
       "<div>\n",
       "<style scoped>\n",
       "    .dataframe tbody tr th:only-of-type {\n",
       "        vertical-align: middle;\n",
       "    }\n",
       "\n",
       "    .dataframe tbody tr th {\n",
       "        vertical-align: top;\n",
       "    }\n",
       "\n",
       "    .dataframe thead th {\n",
       "        text-align: right;\n",
       "    }\n",
       "</style>\n",
       "<table border=\"1\" class=\"dataframe\">\n",
       "  <thead>\n",
       "    <tr style=\"text-align: right;\">\n",
       "      <th></th>\n",
       "      <th>Team</th>\n",
       "      <th>Total</th>\n",
       "      <th>Over</th>\n",
       "      <th>Under</th>\n",
       "    </tr>\n",
       "  </thead>\n",
       "  <tbody>\n",
       "    <tr>\n",
       "      <th>25</th>\n",
       "      <td>Oakland A's</td>\n",
       "      <td>57.5</td>\n",
       "      <td>-105</td>\n",
       "      <td>-115</td>\n",
       "    </tr>\n",
       "  </tbody>\n",
       "</table>\n",
       "</div>"
      ],
      "text/plain": [
       "           Team  Total  Over  Under\n",
       "25  Oakland A's   57.5  -105   -115"
      ]
     },
     "execution_count": 33,
     "metadata": {},
     "output_type": "execute_result"
    }
   ],
   "source": [
    "vegas[vegas['Team'] == 'Oakland A\\'s']"
   ]
  },
  {
   "cell_type": "code",
   "execution_count": 7,
   "id": "7dadae4a",
   "metadata": {},
   "outputs": [],
   "source": [
    "reg_vegas = pd.merge(reg_wins, vegas, left_on = 'Tm', right_on = 'Team', how = 'left').fillna(57.5)[['Tm', 'W', 'Total']]"
   ]
  },
  {
   "cell_type": "code",
   "execution_count": 8,
   "id": "cf9bf414",
   "metadata": {},
   "outputs": [
    {
     "data": {
      "text/plain": [
       "Tm        object\n",
       "W         object\n",
       "Total    float64\n",
       "dtype: object"
      ]
     },
     "execution_count": 8,
     "metadata": {},
     "output_type": "execute_result"
    }
   ],
   "source": [
    "reg_vegas.dtypes"
   ]
  },
  {
   "cell_type": "code",
   "execution_count": 9,
   "id": "f6d6eecf",
   "metadata": {},
   "outputs": [
    {
     "name": "stdout",
     "output_type": "stream",
     "text": [
      "<class 'pandas.core.frame.DataFrame'>\n",
      "RangeIndex: 30 entries, 0 to 29\n",
      "Data columns (total 3 columns):\n",
      " #   Column  Non-Null Count  Dtype  \n",
      "---  ------  --------------  -----  \n",
      " 0   Tm      30 non-null     object \n",
      " 1   W       30 non-null     object \n",
      " 2   Total   30 non-null     float64\n",
      "dtypes: float64(1), object(2)\n",
      "memory usage: 852.0+ bytes\n"
     ]
    }
   ],
   "source": [
    "reg_vegas.info()"
   ]
  },
  {
   "cell_type": "code",
   "execution_count": 10,
   "id": "cd203cc4",
   "metadata": {},
   "outputs": [
    {
     "data": {
      "text/html": [
       "<div>\n",
       "<style scoped>\n",
       "    .dataframe tbody tr th:only-of-type {\n",
       "        vertical-align: middle;\n",
       "    }\n",
       "\n",
       "    .dataframe tbody tr th {\n",
       "        vertical-align: top;\n",
       "    }\n",
       "\n",
       "    .dataframe thead th {\n",
       "        text-align: right;\n",
       "    }\n",
       "</style>\n",
       "<table border=\"1\" class=\"dataframe\">\n",
       "  <thead>\n",
       "    <tr style=\"text-align: right;\">\n",
       "      <th></th>\n",
       "      <th>Tm</th>\n",
       "      <th>W</th>\n",
       "      <th>Total</th>\n",
       "    </tr>\n",
       "  </thead>\n",
       "  <tbody>\n",
       "    <tr>\n",
       "      <th>0</th>\n",
       "      <td>New York Yankees</td>\n",
       "      <td>94</td>\n",
       "      <td>91.5</td>\n",
       "    </tr>\n",
       "    <tr>\n",
       "      <th>1</th>\n",
       "      <td>Baltimore Orioles</td>\n",
       "      <td>91</td>\n",
       "      <td>90.5</td>\n",
       "    </tr>\n",
       "    <tr>\n",
       "      <th>2</th>\n",
       "      <td>Boston Red Sox</td>\n",
       "      <td>81</td>\n",
       "      <td>77.5</td>\n",
       "    </tr>\n",
       "    <tr>\n",
       "      <th>3</th>\n",
       "      <td>Tampa Bay Rays</td>\n",
       "      <td>80</td>\n",
       "      <td>84.5</td>\n",
       "    </tr>\n",
       "    <tr>\n",
       "      <th>4</th>\n",
       "      <td>Toronto Blue Jays</td>\n",
       "      <td>74</td>\n",
       "      <td>86.5</td>\n",
       "    </tr>\n",
       "    <tr>\n",
       "      <th>5</th>\n",
       "      <td>Cleveland Guardians</td>\n",
       "      <td>92</td>\n",
       "      <td>79.5</td>\n",
       "    </tr>\n",
       "    <tr>\n",
       "      <th>6</th>\n",
       "      <td>Kansas City Royals</td>\n",
       "      <td>86</td>\n",
       "      <td>74.5</td>\n",
       "    </tr>\n",
       "    <tr>\n",
       "      <th>7</th>\n",
       "      <td>Detroit Tigers</td>\n",
       "      <td>86</td>\n",
       "      <td>80.5</td>\n",
       "    </tr>\n",
       "    <tr>\n",
       "      <th>8</th>\n",
       "      <td>Minnesota Twins</td>\n",
       "      <td>82</td>\n",
       "      <td>86.5</td>\n",
       "    </tr>\n",
       "    <tr>\n",
       "      <th>9</th>\n",
       "      <td>Chicago White Sox</td>\n",
       "      <td>41</td>\n",
       "      <td>61.5</td>\n",
       "    </tr>\n",
       "    <tr>\n",
       "      <th>10</th>\n",
       "      <td>Houston Astros</td>\n",
       "      <td>88</td>\n",
       "      <td>93.5</td>\n",
       "    </tr>\n",
       "    <tr>\n",
       "      <th>11</th>\n",
       "      <td>Seattle Mariners</td>\n",
       "      <td>85</td>\n",
       "      <td>87.5</td>\n",
       "    </tr>\n",
       "    <tr>\n",
       "      <th>12</th>\n",
       "      <td>Texas Rangers</td>\n",
       "      <td>78</td>\n",
       "      <td>88.5</td>\n",
       "    </tr>\n",
       "    <tr>\n",
       "      <th>13</th>\n",
       "      <td>Oakland Athletics</td>\n",
       "      <td>69</td>\n",
       "      <td>57.5</td>\n",
       "    </tr>\n",
       "    <tr>\n",
       "      <th>14</th>\n",
       "      <td>Los Angeles Angels</td>\n",
       "      <td>63</td>\n",
       "      <td>72.5</td>\n",
       "    </tr>\n",
       "    <tr>\n",
       "      <th>15</th>\n",
       "      <td>Philadelphia Phillies</td>\n",
       "      <td>95</td>\n",
       "      <td>89.5</td>\n",
       "    </tr>\n",
       "    <tr>\n",
       "      <th>16</th>\n",
       "      <td>Atlanta Braves</td>\n",
       "      <td>89</td>\n",
       "      <td>101.5</td>\n",
       "    </tr>\n",
       "    <tr>\n",
       "      <th>17</th>\n",
       "      <td>New York Mets</td>\n",
       "      <td>89</td>\n",
       "      <td>81.5</td>\n",
       "    </tr>\n",
       "    <tr>\n",
       "      <th>18</th>\n",
       "      <td>Washington Nationals</td>\n",
       "      <td>71</td>\n",
       "      <td>65.5</td>\n",
       "    </tr>\n",
       "    <tr>\n",
       "      <th>19</th>\n",
       "      <td>Miami Marlins</td>\n",
       "      <td>62</td>\n",
       "      <td>78.5</td>\n",
       "    </tr>\n",
       "    <tr>\n",
       "      <th>20</th>\n",
       "      <td>Milwaukee Brewers</td>\n",
       "      <td>93</td>\n",
       "      <td>77.5</td>\n",
       "    </tr>\n",
       "    <tr>\n",
       "      <th>21</th>\n",
       "      <td>Chicago Cubs</td>\n",
       "      <td>83</td>\n",
       "      <td>84.5</td>\n",
       "    </tr>\n",
       "    <tr>\n",
       "      <th>22</th>\n",
       "      <td>St. Louis Cardinals</td>\n",
       "      <td>83</td>\n",
       "      <td>84.5</td>\n",
       "    </tr>\n",
       "    <tr>\n",
       "      <th>23</th>\n",
       "      <td>Cincinnati Reds</td>\n",
       "      <td>77</td>\n",
       "      <td>81.5</td>\n",
       "    </tr>\n",
       "    <tr>\n",
       "      <th>24</th>\n",
       "      <td>Pittsburgh Pirates</td>\n",
       "      <td>76</td>\n",
       "      <td>75.5</td>\n",
       "    </tr>\n",
       "    <tr>\n",
       "      <th>25</th>\n",
       "      <td>Los Angeles Dodgers</td>\n",
       "      <td>98</td>\n",
       "      <td>103.5</td>\n",
       "    </tr>\n",
       "    <tr>\n",
       "      <th>26</th>\n",
       "      <td>San Diego Padres</td>\n",
       "      <td>93</td>\n",
       "      <td>83.5</td>\n",
       "    </tr>\n",
       "    <tr>\n",
       "      <th>27</th>\n",
       "      <td>Arizona Diamondbacks</td>\n",
       "      <td>89</td>\n",
       "      <td>84.5</td>\n",
       "    </tr>\n",
       "    <tr>\n",
       "      <th>28</th>\n",
       "      <td>San Francisco Giants</td>\n",
       "      <td>80</td>\n",
       "      <td>83.5</td>\n",
       "    </tr>\n",
       "    <tr>\n",
       "      <th>29</th>\n",
       "      <td>Colorado Rockies</td>\n",
       "      <td>61</td>\n",
       "      <td>60.5</td>\n",
       "    </tr>\n",
       "  </tbody>\n",
       "</table>\n",
       "</div>"
      ],
      "text/plain": [
       "                       Tm   W  Total\n",
       "0        New York Yankees  94   91.5\n",
       "1       Baltimore Orioles  91   90.5\n",
       "2          Boston Red Sox  81   77.5\n",
       "3          Tampa Bay Rays  80   84.5\n",
       "4       Toronto Blue Jays  74   86.5\n",
       "5     Cleveland Guardians  92   79.5\n",
       "6      Kansas City Royals  86   74.5\n",
       "7          Detroit Tigers  86   80.5\n",
       "8         Minnesota Twins  82   86.5\n",
       "9       Chicago White Sox  41   61.5\n",
       "10         Houston Astros  88   93.5\n",
       "11       Seattle Mariners  85   87.5\n",
       "12          Texas Rangers  78   88.5\n",
       "13      Oakland Athletics  69   57.5\n",
       "14     Los Angeles Angels  63   72.5\n",
       "15  Philadelphia Phillies  95   89.5\n",
       "16         Atlanta Braves  89  101.5\n",
       "17          New York Mets  89   81.5\n",
       "18   Washington Nationals  71   65.5\n",
       "19          Miami Marlins  62   78.5\n",
       "20      Milwaukee Brewers  93   77.5\n",
       "21           Chicago Cubs  83   84.5\n",
       "22    St. Louis Cardinals  83   84.5\n",
       "23        Cincinnati Reds  77   81.5\n",
       "24     Pittsburgh Pirates  76   75.5\n",
       "25    Los Angeles Dodgers  98  103.5\n",
       "26       San Diego Padres  93   83.5\n",
       "27   Arizona Diamondbacks  89   84.5\n",
       "28   San Francisco Giants  80   83.5\n",
       "29       Colorado Rockies  61   60.5"
      ]
     },
     "execution_count": 10,
     "metadata": {},
     "output_type": "execute_result"
    }
   ],
   "source": [
    "reg_vegas"
   ]
  },
  {
   "cell_type": "code",
   "execution_count": 16,
   "id": "493a111c",
   "metadata": {},
   "outputs": [
    {
     "name": "stdout",
     "output_type": "stream",
     "text": [
      "{'New York Yankees': '#003087', 'Baltimore Orioles': '#df4601', 'Boston Red Sox': '#bd3039', 'Tampa Bay Rays': '#092c5c', 'Toronto Blue Jays': '#134a8e', 'Cleveland Guardians': None}\n"
     ]
    }
   ],
   "source": [
    "import requests\n",
    "from bs4 import BeautifulSoup\n",
    "\n",
    "base_url = 'https://teamcolorcodes.com/{}-color-codes/'\n",
    "\n",
    "hex_dict = {}\n",
    "\n",
    "for team in reg_vegas['Tm']:\n",
    "    fmt_name = team.replace(' ', '-').lower()\n",
    "    \n",
    "    url = base_url.format(fmt_name)\n",
    "    \n",
    "    response = requests.get(url)\n",
    "    \n",
    "    soup = BeautifulSoup(response.text, 'html.parser')\n",
    "    \n",
    "    try:\n",
    "        hex_dict[team] = soup.find('div', class_='colorblock')['style'].split(' ')[1].split(';')[0]\n",
    "    \n",
    "    except TypeError:\n",
    "        hex_dict[team] = None"
   ]
  },
  {
   "cell_type": "code",
   "execution_count": 20,
   "id": "ff3f46cb",
   "metadata": {},
   "outputs": [],
   "source": [
    "hex_dict['Cleveland Guardians'] = '#00385D'"
   ]
  },
  {
   "cell_type": "code",
   "execution_count": 43,
   "id": "56d13a87",
   "metadata": {},
   "outputs": [
    {
     "data": {
      "text/plain": [
       "2"
      ]
     },
     "execution_count": 43,
     "metadata": {},
     "output_type": "execute_result"
    }
   ],
   "source": [
    "int('2')"
   ]
  },
  {
   "cell_type": "code",
   "execution_count": 22,
   "id": "75ca2f2e",
   "metadata": {},
   "outputs": [],
   "source": [
    "reg_vegas['residuals'] = reg_vegas['W'].astype(float) - reg_vegas['Total']"
   ]
  },
  {
   "cell_type": "code",
   "execution_count": 23,
   "id": "1e6e0cdb",
   "metadata": {},
   "outputs": [],
   "source": [
    "reg_vegas.sort_values(by='residuals', inplace = True)"
   ]
  },
  {
   "cell_type": "code",
   "execution_count": 25,
   "id": "39872f46",
   "metadata": {},
   "outputs": [],
   "source": [
    "reg_vegas['color'] = reg_vegas['Tm'].map(hex_dict)"
   ]
  },
  {
   "cell_type": "code",
   "execution_count": 32,
   "id": "80c8cf19",
   "metadata": {},
   "outputs": [],
   "source": [
    "def make_keys(words: list[str]) -> dict:\n",
    "    \"\"\"\n",
    "    Makes the team abbreviations for MLB.com teams such as CLE. \n",
    "    \"\"\"\n",
    "    keys = []\n",
    "    for text in words:\n",
    "        text = text.split()\n",
    "        abbr = [word[0] for word in text if word[0].isupper()]\n",
    "        if len(text) == 2:\n",
    "            abbr = text[0][:3].upper()\n",
    "        abbr = ''.join(abbr)\n",
    "        keys.append(abbr)\n",
    "    \n",
    "    # Manually fix these for fangraphs merge\n",
    "    wrong_ones = {\n",
    "        'STL' : 'SLC',\n",
    "        'TOR' : 'TBJ',\n",
    "        'BOS' : 'BRS',\n",
    "        'CHW' : 'CWS',\n",
    "        'CHC' : 'CHI',\n",
    "        'WSN' : 'WAS'\n",
    "    }\n",
    "    \n",
    "    new_list = []\n",
    "    for k in keys:\n",
    "        new_k = [abbr for abbr, val in wrong_ones.items() if k == val]\n",
    "        k = new_k[0] if new_k else k\n",
    "        new_list.append(k)\n",
    "\n",
    "    return new_list"
   ]
  },
  {
   "cell_type": "code",
   "execution_count": 38,
   "id": "49fe33a8",
   "metadata": {},
   "outputs": [],
   "source": [
    "reg_vegas['abbr'] = make_keys(reg_vegas['Tm'])"
   ]
  },
  {
   "cell_type": "code",
   "execution_count": 41,
   "id": "d7fdd6d9",
   "metadata": {},
   "outputs": [],
   "source": [
    "reg_vegas.sort_values(by='abbr', inplace = True)"
   ]
  },
  {
   "cell_type": "code",
   "execution_count": 47,
   "id": "f9ade47a",
   "metadata": {},
   "outputs": [],
   "source": [
    "reg_vegas['id'] = range(1, len(reg_vegas) + 1)"
   ]
  },
  {
   "cell_type": "code",
   "execution_count": 50,
   "id": "4d0e5a65",
   "metadata": {},
   "outputs": [
    {
     "data": {
      "text/html": [
       "<div>\n",
       "<style scoped>\n",
       "    .dataframe tbody tr th:only-of-type {\n",
       "        vertical-align: middle;\n",
       "    }\n",
       "\n",
       "    .dataframe tbody tr th {\n",
       "        vertical-align: top;\n",
       "    }\n",
       "\n",
       "    .dataframe thead th {\n",
       "        text-align: right;\n",
       "    }\n",
       "</style>\n",
       "<table border=\"1\" class=\"dataframe\">\n",
       "  <thead>\n",
       "    <tr style=\"text-align: right;\">\n",
       "      <th></th>\n",
       "      <th>Tm</th>\n",
       "      <th>W</th>\n",
       "      <th>Total</th>\n",
       "      <th>residuals</th>\n",
       "      <th>color</th>\n",
       "      <th>abbr</th>\n",
       "      <th>id</th>\n",
       "    </tr>\n",
       "  </thead>\n",
       "  <tbody>\n",
       "    <tr>\n",
       "      <th>27</th>\n",
       "      <td>Arizona Diamondbacks</td>\n",
       "      <td>89</td>\n",
       "      <td>84.5</td>\n",
       "      <td>4.5</td>\n",
       "      <td>#a71930</td>\n",
       "      <td>ARI</td>\n",
       "      <td>1</td>\n",
       "    </tr>\n",
       "    <tr>\n",
       "      <th>16</th>\n",
       "      <td>Atlanta Braves</td>\n",
       "      <td>89</td>\n",
       "      <td>101.5</td>\n",
       "      <td>-12.5</td>\n",
       "      <td>#ce1141</td>\n",
       "      <td>ATL</td>\n",
       "      <td>2</td>\n",
       "    </tr>\n",
       "    <tr>\n",
       "      <th>1</th>\n",
       "      <td>Baltimore Orioles</td>\n",
       "      <td>91</td>\n",
       "      <td>90.5</td>\n",
       "      <td>0.5</td>\n",
       "      <td>#df4601</td>\n",
       "      <td>BAL</td>\n",
       "      <td>3</td>\n",
       "    </tr>\n",
       "    <tr>\n",
       "      <th>2</th>\n",
       "      <td>Boston Red Sox</td>\n",
       "      <td>81</td>\n",
       "      <td>77.5</td>\n",
       "      <td>3.5</td>\n",
       "      <td>#bd3039</td>\n",
       "      <td>BOS</td>\n",
       "      <td>4</td>\n",
       "    </tr>\n",
       "    <tr>\n",
       "      <th>21</th>\n",
       "      <td>Chicago Cubs</td>\n",
       "      <td>83</td>\n",
       "      <td>84.5</td>\n",
       "      <td>-1.5</td>\n",
       "      <td>#0e3386</td>\n",
       "      <td>CHC</td>\n",
       "      <td>5</td>\n",
       "    </tr>\n",
       "  </tbody>\n",
       "</table>\n",
       "</div>"
      ],
      "text/plain": [
       "                      Tm   W  Total  residuals    color abbr  id\n",
       "27  Arizona Diamondbacks  89   84.5        4.5  #a71930  ARI   1\n",
       "16        Atlanta Braves  89  101.5      -12.5  #ce1141  ATL   2\n",
       "1      Baltimore Orioles  91   90.5        0.5  #df4601  BAL   3\n",
       "2         Boston Red Sox  81   77.5        3.5  #bd3039  BOS   4\n",
       "21          Chicago Cubs  83   84.5       -1.5  #0e3386  CHC   5"
      ]
     },
     "execution_count": 50,
     "metadata": {},
     "output_type": "execute_result"
    }
   ],
   "source": [
    "reg_vegas.head()"
   ]
  },
  {
   "cell_type": "code",
   "execution_count": 57,
   "id": "8eddb792",
   "metadata": {
    "scrolled": true
   },
   "outputs": [],
   "source": [
    "import os\n",
    "\n",
    "logo_path = '/Users/eddie/Eddie_Dew_Python/mlb_logos'\n",
    "\n",
    "logos = os.listdir(logo_path)\n",
    "\n",
    "l_dict = {}\n",
    "\n",
    "for logo in logos:\n",
    "    try:\n",
    "        id_ = int(logo.split('.')[0])\n",
    "        l_dict[id_] = os.path.join(logo_path, logo)\n",
    "    except ValueError:\n",
    "        continue\n"
   ]
  },
  {
   "cell_type": "code",
   "execution_count": 59,
   "id": "740ff006",
   "metadata": {},
   "outputs": [],
   "source": [
    "reg_vegas['logo_path'] = reg_vegas['id'].map(l_dict)"
   ]
  },
  {
   "cell_type": "code",
   "execution_count": 62,
   "id": "2fb37016",
   "metadata": {},
   "outputs": [],
   "source": [
    "reg_vegas.sort_values(by='residuals', inplace = True)"
   ]
  },
  {
   "cell_type": "code",
   "execution_count": 78,
   "id": "a63ad5c9",
   "metadata": {},
   "outputs": [],
   "source": [
    "reg_vegas.reset_index(drop = True, inplace = True)\n"
   ]
  },
  {
   "cell_type": "code",
   "execution_count": 80,
   "id": "2d2ea6a1",
   "metadata": {},
   "outputs": [
    {
     "data": {
      "image/png": "[encoded data removed]",
      "text/plain": [
       "<Figure size 1000x600 with 1 Axes>"
      ]
     },
     "metadata": {},
     "output_type": "display_data"
    }
   ],
   "source": [
    "import matplotlib.pyplot as plt\n",
    "from matplotlib.offsetbox import OffsetImage, AnnotationBbox\n",
    "\n",
    "fig, ax = plt.subplots()\n",
    "\n",
    "def add_logo(ax, path, xy):\n",
    "    image = plt.imread(path)\n",
    "    imagebox = OffsetImage(image, zoom = (20 / image.shape[0]), resample = True)\n",
    "    ab = AnnotationBbox(imagebox, xy=xy, frameon = False)\n",
    "    ax.add_artist(ab)\n",
    "    \n",
    "\n",
    "reg_vegas.plot(y='residuals', kind='bar', legend = False, xticks=[], title='Actual vs. Expected Wins', figsize=(10, 6), ylabel = 'Margin', color = reg_vegas['color'], ax = ax)\n",
    "\n",
    "for i, team in reg_vegas.iterrows():\n",
    "    add_logo(ax=ax, path = team['logo_path'], xy=(i, team['residuals']))\n",
    "\n",
    "\n",
    "\n"
   ]
  }
 ],
 "metadata": {
  "kernelspec": {
   "display_name": "Python 3 (ipykernel)",
   "language": "python",
   "name": "python3"
  },
  "language_info": {
   "codemirror_mode": {
    "name": "ipython",
    "version": 3
   },
   "file_extension": ".py",
   "mimetype": "text/x-python",
   "name": "python",
   "nbconvert_exporter": "python",
   "pygments_lexer": "ipython3",
   "version": "3.11.7"
  }
 },
 "nbformat": 4,
 "nbformat_minor": 5
}
