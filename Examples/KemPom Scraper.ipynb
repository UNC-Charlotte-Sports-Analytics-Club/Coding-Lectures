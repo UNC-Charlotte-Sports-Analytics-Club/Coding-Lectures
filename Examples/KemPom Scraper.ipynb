{
 "cells": [
  {
   "cell_type": "markdown",
   "id": "b0fbc234",
   "metadata": {},
   "source": [
    "# KenPom Scraper\n",
    "\n",
    "This coding example scrapes off the [KenPom](https://kenpom.com/index.php) table. \n",
    "\n",
    "If you want more info on the scraping package that bypasses the cloudflare anti-bot page, see [this link](https://pypi.org/project/cloudscraper/).\n",
    "\n",
    "\n",
    "#### NOTE: Please be mindful when making requests. If you start a new session, just run the `browser.get(kenpomurl)` once so you are only making one request. You can do everything else in other cells since Jupyter Notebook saves your variable names in the kernel. "
   ]
  },
  {
   "cell_type": "code",
   "execution_count": 1,
   "id": "ec1dc0f8",
   "metadata": {},
   "outputs": [],
   "source": [
    "import cloudscraper\n",
    "from bs4 import BeautifulSoup\n",
    "import pandas as pd\n",
    "from io import StringIO\n",
    "import re"
   ]
  },
  {
   "cell_type": "code",
   "execution_count": 2,
   "id": "c8b7a02f",
   "metadata": {},
   "outputs": [],
   "source": [
    "browser = cloudscraper.create_scraper()\n",
    "response = browser.get('https://kenpom.com/index.php')"
   ]
  },
  {
   "cell_type": "code",
   "execution_count": 3,
   "id": "09627591",
   "metadata": {},
   "outputs": [],
   "source": [
    "soup = BeautifulSoup(response.content, 'html.parser')"
   ]
  },
  {
   "cell_type": "code",
   "execution_count": 4,
   "id": "2e7f9340",
   "metadata": {},
   "outputs": [],
   "source": [
    "df = pd.read_html(StringIO(str(soup.find_all('table')[0])))[0]\n",
    "\n",
    "df.columns = ['Rk', 'Team', 'Conference','W-L','NetRtg',\n",
    "              'ORtg','ORtg_rk','DRtg','DRtg_rk','AdjT',\n",
    "              'AdjT_rk','Luck','Luck_rk','OPP_NetRtg',\n",
    "              'OPP_NetRtg_rk','OPP_ORtg','OPP_ORtg_rk',\n",
    "              'OPP_DRtg','OPP_DRtg_rk','NCSOS',\n",
    "              'NCSOS_rk'\n",
    "             ]"
   ]
  },
  {
   "cell_type": "code",
   "execution_count": 5,
   "id": "cc7f3eae",
   "metadata": {},
   "outputs": [],
   "source": [
    "df = df[df['Team'] != 'Team'].dropna().reset_index(drop=True)\n",
    "df['Seed'] = df['Team'].apply(lambda x: re.search(r'\\d+', x).group() if re.search(r'\\d+', x) else None)\n",
    "df['Team'] = df['Team'].apply(lambda x: re.sub(r'\\d+', '', x)).str.strip()\n",
    "df['NetRtg'] = df['NetRtg'].apply(lambda x: re.sub(r'[^-\\d.]+', '', x)).astype(float)\n",
    "df['OPP_NetRtg'] = df['OPP_NetRtg'].apply(lambda x: re.sub(r'[^-\\d.]+', '', x)).astype(float)\n",
    "df['AdjT'] = df['AdjT'].astype(float)\n",
    "df[['ORtg', 'DRtg']] = df[['ORtg', 'DRtg']].astype(float)"
   ]
  },
  {
   "cell_type": "markdown",
   "id": "0291a090",
   "metadata": {},
   "source": [
    "Below is the example code for computing the projected efficiency margin and the Win Probability of the game."
   ]
  },
  {
   "cell_type": "code",
   "execution_count": 7,
   "id": "7f0f39c2",
   "metadata": {},
   "outputs": [],
   "source": [
    "import scipy.stats as stats\n",
    "\n",
    "def compute_score(team1, team2, df):\n",
    "    team1 = df[df['Team'] == team1]\n",
    "    team2 = df[df['Team'] == team2]\n",
    "    # Average Efficiency is 106.7 and tempo is 67.2\n",
    "    approx_tempo = int((team1['AdjT'].iloc[0] / 67.2) * (team2['AdjT'].iloc[0] / 67.2) * 67.2)\n",
    "    team1_adj_off = (team1['ORtg'].iloc[0] * team2['DRtg'].iloc[0]) / 106.7\n",
    "    team2_adj_off = (team2['ORtg'].iloc[0] * team1['DRtg'].iloc[0]) / 106.7\n",
    "    \n",
    "    team1_score = team1_adj_off / 100 * approx_tempo\n",
    "    team2_score = team2_adj_off / 100 * approx_tempo\n",
    "    \n",
    "    margin = team1_score - team2_score\n",
    "    wp = stats.norm.cdf(x=0, loc=margin, scale = 11)\n",
    "    \n",
    "    print(f\"\"\"    Here is the Predicted Score Between these teams on a neutral court according to KenPom:\\n \n",
    "    {team1['Team'].iloc[0]}: {round(team1_score, 0)} | {team2['Team'].iloc[0]}: {round(team2_score, 0)} | Probability {team1['Team'].iloc[0]} Wins: {1-round(wp, 3)}\"\"\")\n",
    "    \n",
    "    "
   ]
  },
  {
   "cell_type": "code",
   "execution_count": 9,
   "id": "7c84eae4",
   "metadata": {},
   "outputs": [
    {
     "name": "stdout",
     "output_type": "stream",
     "text": [
      "    Here is the Predicted Score Between these teams on a neutral court according to KenPom:\n",
      " \n",
      "    Kansas: 68.0 | St. John's: 70.0 | Probability Kansas Wins: 0.405\n"
     ]
    }
   ],
   "source": [
    "compute_score('Kansas', 'St. John\\'s', df) # > 75% should be gurantee in theory"
   ]
  }
 ],
 "metadata": {
  "kernelspec": {
   "display_name": "Python 3 (ipykernel)",
   "language": "python",
   "name": "python3"
  },
  "language_info": {
   "codemirror_mode": {
    "name": "ipython",
    "version": 3
   },
   "file_extension": ".py",
   "mimetype": "text/x-python",
   "name": "python",
   "nbconvert_exporter": "python",
   "pygments_lexer": "ipython3",
   "version": "3.11.7"
  }
 },
 "nbformat": 4,
 "nbformat_minor": 5
}
