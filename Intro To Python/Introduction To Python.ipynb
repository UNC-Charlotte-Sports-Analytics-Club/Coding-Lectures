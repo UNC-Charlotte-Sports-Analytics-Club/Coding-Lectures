{
 "cells": [
  {
   "cell_type": "markdown",
   "id": "d31714e8",
   "metadata": {},
   "source": [
    "# Variables\n",
    "\n",
    "* integers, floats, strings, booleans"
   ]
  },
  {
   "cell_type": "code",
   "execution_count": 8,
   "id": "41f4cdc2",
   "metadata": {},
   "outputs": [],
   "source": [
    "var = False"
   ]
  },
  {
   "cell_type": "code",
   "execution_count": 9,
   "id": "36a02ae3",
   "metadata": {},
   "outputs": [
    {
     "data": {
      "text/plain": [
       "bool"
      ]
     },
     "execution_count": 9,
     "metadata": {},
     "output_type": "execute_result"
    }
   ],
   "source": [
    "type(var)"
   ]
  },
  {
   "cell_type": "markdown",
   "id": "1b0fa864",
   "metadata": {},
   "source": [
    "# Data Types\n",
    "\n",
    "* Lists, dictionaries, sets, tuples"
   ]
  },
  {
   "cell_type": "code",
   "execution_count": 10,
   "id": "b904d1d2",
   "metadata": {},
   "outputs": [],
   "source": [
    "my_list = [1, 2, 3, 4]"
   ]
  },
  {
   "cell_type": "code",
   "execution_count": null,
   "id": "89fe9ce6",
   "metadata": {},
   "outputs": [],
   "source": [
    "{}, ()"
   ]
  },
  {
   "cell_type": "code",
   "execution_count": 14,
   "id": "ef14857d",
   "metadata": {},
   "outputs": [],
   "source": [
    "my_list.append(4)"
   ]
  },
  {
   "cell_type": "code",
   "execution_count": 16,
   "id": "ca1af5e4",
   "metadata": {},
   "outputs": [],
   "source": [
    "my_list.append('Hello')"
   ]
  },
  {
   "cell_type": "code",
   "execution_count": 18,
   "id": "fe9843b7",
   "metadata": {},
   "outputs": [],
   "source": [
    "my_dict = {'key': 'value'}"
   ]
  },
  {
   "cell_type": "code",
   "execution_count": 31,
   "id": "19763ed4",
   "metadata": {},
   "outputs": [],
   "source": [
    "my_dict['key2'] = 'value2'"
   ]
  },
  {
   "cell_type": "code",
   "execution_count": 36,
   "id": "8a26f679",
   "metadata": {},
   "outputs": [],
   "source": [
    "my_tuple = ('1', 1)"
   ]
  },
  {
   "cell_type": "code",
   "execution_count": 37,
   "id": "4636bd1a",
   "metadata": {},
   "outputs": [
    {
     "data": {
      "text/plain": [
       "('1', 1)"
      ]
     },
     "execution_count": 37,
     "metadata": {},
     "output_type": "execute_result"
    }
   ],
   "source": [
    "my_tuple"
   ]
  },
  {
   "cell_type": "markdown",
   "id": "5fd73a0c",
   "metadata": {},
   "source": [
    "# Functions"
   ]
  },
  {
   "cell_type": "code",
   "execution_count": 44,
   "id": "181e26bf",
   "metadata": {},
   "outputs": [],
   "source": [
    "def addition(num1, num2):\n",
    "    return num1 + num2"
   ]
  },
  {
   "cell_type": "code",
   "execution_count": 45,
   "id": "14ba68ec",
   "metadata": {
    "scrolled": true
   },
   "outputs": [
    {
     "data": {
      "text/plain": [
       "3"
      ]
     },
     "execution_count": 45,
     "metadata": {},
     "output_type": "execute_result"
    }
   ],
   "source": [
    "addition(1, 2)"
   ]
  },
  {
   "cell_type": "markdown",
   "id": "3cce046d",
   "metadata": {},
   "source": [
    "# Object Oriented Programming"
   ]
  },
  {
   "cell_type": "code",
   "execution_count": 61,
   "id": "e4489187",
   "metadata": {},
   "outputs": [],
   "source": [
    "class Animal(object):\n",
    "    def __init__(self, age):\n",
    "        self.age = age\n",
    "        \n",
    "    def get_age(self):\n",
    "        return self.age\n",
    "    \n",
    "    def set_age(self, new_age):\n",
    "        self.age = new_age\n",
    "\n",
    "\n",
    "class Dog(Animal):\n",
    "    def __init__(self, n_paws, breed, age, has_long_tail):\n",
    "        super().__init__(age)\n",
    "        \n",
    "        self.n_paws = n_paws\n",
    "        self.breed = breed\n",
    "        self.has_long_tail = has_long_tail\n",
    "    \n",
    "    def get_breed(self):\n",
    "        return self.breed\n",
    "    \n",
    "    \n",
    "    "
   ]
  },
  {
   "cell_type": "code",
   "execution_count": 62,
   "id": "9228bf74",
   "metadata": {},
   "outputs": [],
   "source": [
    "dog = Dog(4, 'Golden Retriever', 3, True)"
   ]
  },
  {
   "cell_type": "code",
   "execution_count": 63,
   "id": "022467ea",
   "metadata": {},
   "outputs": [
    {
     "data": {
      "text/plain": [
       "3"
      ]
     },
     "execution_count": 63,
     "metadata": {},
     "output_type": "execute_result"
    }
   ],
   "source": [
    "dog.get_age()"
   ]
  },
  {
   "cell_type": "code",
   "execution_count": 56,
   "id": "8489c871",
   "metadata": {},
   "outputs": [],
   "source": [
    "dog.set_age(8)"
   ]
  },
  {
   "cell_type": "code",
   "execution_count": 57,
   "id": "ef4f2540",
   "metadata": {
    "scrolled": true
   },
   "outputs": [
    {
     "data": {
      "text/plain": [
       "8"
      ]
     },
     "execution_count": 57,
     "metadata": {},
     "output_type": "execute_result"
    }
   ],
   "source": [
    "dog.get_age()"
   ]
  },
  {
   "cell_type": "markdown",
   "id": "96124958",
   "metadata": {},
   "source": [
    "# Packages"
   ]
  },
  {
   "cell_type": "code",
   "execution_count": null,
   "id": "819b3b18",
   "metadata": {},
   "outputs": [],
   "source": [
    "%pip install ____"
   ]
  },
  {
   "cell_type": "markdown",
   "id": "431aa633",
   "metadata": {},
   "source": [
    "**Module Not Found Error**"
   ]
  },
  {
   "cell_type": "markdown",
   "id": "177ae173",
   "metadata": {},
   "source": [
    "# Scraping Example"
   ]
  },
  {
   "cell_type": "code",
   "execution_count": null,
   "id": "848d7d3e",
   "metadata": {},
   "outputs": [],
   "source": [
    "%pip install requests beautifulsoup4 pandas"
   ]
  },
  {
   "cell_type": "code",
   "execution_count": 64,
   "id": "49aea229",
   "metadata": {},
   "outputs": [],
   "source": [
    "import requests\n",
    "from bs4 import BeautifulSoup\n",
    "import pandas as pd\n",
    "\n",
    "response = requests.get('https://www.pro-football-reference.com/years/2024/')\n",
    "\n",
    "soup = BeautifulSoup(response.content, 'html.parser')"
   ]
  },
  {
   "cell_type": "code",
   "execution_count": 84,
   "id": "d6973081",
   "metadata": {},
   "outputs": [],
   "source": [
    "table = soup.find('table')\n",
    "\n",
    "cols = [elem.get_text() for elem in table.find('tr').find_all('th')]\n",
    "\n"
   ]
  },
  {
   "cell_type": "code",
   "execution_count": 127,
   "id": "635ba514",
   "metadata": {},
   "outputs": [],
   "source": [
    "cols.insert(1, 'Tm Link')"
   ]
  },
  {
   "cell_type": "code",
   "execution_count": 128,
   "id": "368a9160",
   "metadata": {},
   "outputs": [
    {
     "data": {
      "text/plain": [
       "['Tm',\n",
       " 'Tm Link',\n",
       " 'W',\n",
       " 'L',\n",
       " 'W-L%',\n",
       " 'PF',\n",
       " 'PA',\n",
       " 'PD',\n",
       " 'MoV',\n",
       " 'SoS',\n",
       " 'SRS',\n",
       " 'OSRS',\n",
       " 'DSRS']"
      ]
     },
     "execution_count": 128,
     "metadata": {},
     "output_type": "execute_result"
    }
   ],
   "source": [
    "cols\n"
   ]
  },
  {
   "cell_type": "code",
   "execution_count": 137,
   "id": "18ef55f1",
   "metadata": {},
   "outputs": [],
   "source": [
    "def parse_table(soup, \n",
    "                cols,\n",
    "                leagues = ['AFC', 'NFC']):\n",
    "    \n",
    "    team_stats = []\n",
    "    for league in leagues:\n",
    "        table = soup.find('table', {'id': league})\n",
    "        \n",
    "        for row in table.find('tbody').find_all('tr'):\n",
    "            items = row.find_all('td')\n",
    "            if len(items) == 1:\n",
    "                continue\n",
    "            team = row.find('th').find('a').get_text()\n",
    "            link = row.find('th').find('a')['href']\n",
    "\n",
    "            stats = [stat.get_text() for stat in items]\n",
    "\n",
    "            stats.insert(0, team)\n",
    "            stats.insert(1, link)\n",
    "\n",
    "            team_stats.append(stats)\n",
    "            \n",
    "    return pd.DataFrame(team_stats, columns= cols)\n",
    "    "
   ]
  },
  {
   "cell_type": "code",
   "execution_count": 140,
   "id": "cc044d8e",
   "metadata": {},
   "outputs": [],
   "source": [
    "df = parse_table(soup, cols)"
   ]
  },
  {
   "cell_type": "code",
   "execution_count": 142,
   "id": "7b63a90f",
   "metadata": {
    "scrolled": true
   },
   "outputs": [
    {
     "data": {
      "text/plain": [
       "Tm         object\n",
       "Tm Link    object\n",
       "W          object\n",
       "L          object\n",
       "W-L%       object\n",
       "PF         object\n",
       "PA         object\n",
       "PD         object\n",
       "MoV        object\n",
       "SoS        object\n",
       "SRS        object\n",
       "OSRS       object\n",
       "DSRS       object\n",
       "dtype: object"
      ]
     },
     "execution_count": 142,
     "metadata": {},
     "output_type": "execute_result"
    }
   ],
   "source": [
    "df.dtypes"
   ]
  },
  {
   "cell_type": "code",
   "execution_count": 145,
   "id": "0a877546",
   "metadata": {},
   "outputs": [],
   "source": [
    "df.iloc[:, 2:] = df.iloc[:, 2:].astype(float)"
   ]
  },
  {
   "cell_type": "code",
   "execution_count": 154,
   "id": "4197ad62",
   "metadata": {},
   "outputs": [],
   "source": [
    "df['Prop_PF'] = df['PF'] / (df['PF'] + df['PA'])"
   ]
  },
  {
   "cell_type": "code",
   "execution_count": 156,
   "id": "f722c798",
   "metadata": {},
   "outputs": [
    {
     "data": {
      "text/html": [
       "<div>\n",
       "<style scoped>\n",
       "    .dataframe tbody tr th:only-of-type {\n",
       "        vertical-align: middle;\n",
       "    }\n",
       "\n",
       "    .dataframe tbody tr th {\n",
       "        vertical-align: top;\n",
       "    }\n",
       "\n",
       "    .dataframe thead th {\n",
       "        text-align: right;\n",
       "    }\n",
       "</style>\n",
       "<table border=\"1\" class=\"dataframe\">\n",
       "  <thead>\n",
       "    <tr style=\"text-align: right;\">\n",
       "      <th></th>\n",
       "      <th>Tm</th>\n",
       "      <th>Tm Link</th>\n",
       "      <th>W</th>\n",
       "      <th>L</th>\n",
       "      <th>W-L%</th>\n",
       "      <th>PF</th>\n",
       "      <th>PA</th>\n",
       "      <th>PD</th>\n",
       "      <th>MoV</th>\n",
       "      <th>SoS</th>\n",
       "      <th>SRS</th>\n",
       "      <th>OSRS</th>\n",
       "      <th>DSRS</th>\n",
       "      <th>Prop_PF</th>\n",
       "    </tr>\n",
       "  </thead>\n",
       "  <tbody>\n",
       "    <tr>\n",
       "      <th>20</th>\n",
       "      <td>Detroit Lions</td>\n",
       "      <td>/teams/det/2024.htm</td>\n",
       "      <td>15.0</td>\n",
       "      <td>2.0</td>\n",
       "      <td>0.882</td>\n",
       "      <td>564.0</td>\n",
       "      <td>342.0</td>\n",
       "      <td>222.0</td>\n",
       "      <td>13.1</td>\n",
       "      <td>0.7</td>\n",
       "      <td>13.8</td>\n",
       "      <td>10.6</td>\n",
       "      <td>3.2</td>\n",
       "      <td>0.622517</td>\n",
       "    </tr>\n",
       "    <tr>\n",
       "      <th>16</th>\n",
       "      <td>Philadelphia Eagles</td>\n",
       "      <td>/teams/phi/2024.htm</td>\n",
       "      <td>14.0</td>\n",
       "      <td>3.0</td>\n",
       "      <td>0.824</td>\n",
       "      <td>463.0</td>\n",
       "      <td>303.0</td>\n",
       "      <td>160.0</td>\n",
       "      <td>9.4</td>\n",
       "      <td>-1.7</td>\n",
       "      <td>7.7</td>\n",
       "      <td>3.0</td>\n",
       "      <td>4.7</td>\n",
       "      <td>0.604439</td>\n",
       "    </tr>\n",
       "    <tr>\n",
       "      <th>4</th>\n",
       "      <td>Baltimore Ravens</td>\n",
       "      <td>/teams/rav/2024.htm</td>\n",
       "      <td>12.0</td>\n",
       "      <td>5.0</td>\n",
       "      <td>0.706</td>\n",
       "      <td>518.0</td>\n",
       "      <td>361.0</td>\n",
       "      <td>157.0</td>\n",
       "      <td>9.2</td>\n",
       "      <td>0.6</td>\n",
       "      <td>9.9</td>\n",
       "      <td>8.0</td>\n",
       "      <td>1.9</td>\n",
       "      <td>0.589306</td>\n",
       "    </tr>\n",
       "    <tr>\n",
       "      <th>0</th>\n",
       "      <td>Buffalo Bills</td>\n",
       "      <td>/teams/buf/2024.htm</td>\n",
       "      <td>13.0</td>\n",
       "      <td>4.0</td>\n",
       "      <td>0.765</td>\n",
       "      <td>525.0</td>\n",
       "      <td>368.0</td>\n",
       "      <td>157.0</td>\n",
       "      <td>9.2</td>\n",
       "      <td>-1.1</td>\n",
       "      <td>8.1</td>\n",
       "      <td>7.8</td>\n",
       "      <td>0.3</td>\n",
       "      <td>0.587906</td>\n",
       "    </tr>\n",
       "    <tr>\n",
       "      <th>14</th>\n",
       "      <td>Denver Broncos</td>\n",
       "      <td>/teams/den/2024.htm</td>\n",
       "      <td>10.0</td>\n",
       "      <td>7.0</td>\n",
       "      <td>0.588</td>\n",
       "      <td>425.0</td>\n",
       "      <td>311.0</td>\n",
       "      <td>114.0</td>\n",
       "      <td>6.7</td>\n",
       "      <td>-0.3</td>\n",
       "      <td>6.4</td>\n",
       "      <td>2.1</td>\n",
       "      <td>4.3</td>\n",
       "      <td>0.577446</td>\n",
       "    </tr>\n",
       "    <tr>\n",
       "      <th>22</th>\n",
       "      <td>Green Bay Packers</td>\n",
       "      <td>/teams/gnb/2024.htm</td>\n",
       "      <td>11.0</td>\n",
       "      <td>6.0</td>\n",
       "      <td>0.647</td>\n",
       "      <td>460.0</td>\n",
       "      <td>338.0</td>\n",
       "      <td>122.0</td>\n",
       "      <td>7.2</td>\n",
       "      <td>0.9</td>\n",
       "      <td>8.1</td>\n",
       "      <td>4.9</td>\n",
       "      <td>3.2</td>\n",
       "      <td>0.576441</td>\n",
       "    </tr>\n",
       "    <tr>\n",
       "      <th>13</th>\n",
       "      <td>Los Angeles Chargers</td>\n",
       "      <td>/teams/sdg/2024.htm</td>\n",
       "      <td>11.0</td>\n",
       "      <td>6.0</td>\n",
       "      <td>0.647</td>\n",
       "      <td>402.0</td>\n",
       "      <td>301.0</td>\n",
       "      <td>101.0</td>\n",
       "      <td>5.9</td>\n",
       "      <td>-0.6</td>\n",
       "      <td>5.3</td>\n",
       "      <td>0.6</td>\n",
       "      <td>4.7</td>\n",
       "      <td>0.571835</td>\n",
       "    </tr>\n",
       "    <tr>\n",
       "      <th>24</th>\n",
       "      <td>Tampa Bay Buccaneers</td>\n",
       "      <td>/teams/tam/2024.htm</td>\n",
       "      <td>10.0</td>\n",
       "      <td>7.0</td>\n",
       "      <td>0.588</td>\n",
       "      <td>502.0</td>\n",
       "      <td>385.0</td>\n",
       "      <td>117.0</td>\n",
       "      <td>6.9</td>\n",
       "      <td>-0.4</td>\n",
       "      <td>6.4</td>\n",
       "      <td>6.0</td>\n",
       "      <td>0.4</td>\n",
       "      <td>0.565953</td>\n",
       "    </tr>\n",
       "    <tr>\n",
       "      <th>21</th>\n",
       "      <td>Minnesota Vikings</td>\n",
       "      <td>/teams/min/2024.htm</td>\n",
       "      <td>14.0</td>\n",
       "      <td>3.0</td>\n",
       "      <td>0.824</td>\n",
       "      <td>432.0</td>\n",
       "      <td>332.0</td>\n",
       "      <td>100.0</td>\n",
       "      <td>5.9</td>\n",
       "      <td>0.3</td>\n",
       "      <td>6.2</td>\n",
       "      <td>2.8</td>\n",
       "      <td>3.4</td>\n",
       "      <td>0.565445</td>\n",
       "    </tr>\n",
       "    <tr>\n",
       "      <th>17</th>\n",
       "      <td>Washington Commanders</td>\n",
       "      <td>/teams/was/2024.htm</td>\n",
       "      <td>12.0</td>\n",
       "      <td>5.0</td>\n",
       "      <td>0.706</td>\n",
       "      <td>485.0</td>\n",
       "      <td>391.0</td>\n",
       "      <td>94.0</td>\n",
       "      <td>5.5</td>\n",
       "      <td>-1.8</td>\n",
       "      <td>3.7</td>\n",
       "      <td>4.9</td>\n",
       "      <td>-1.2</td>\n",
       "      <td>0.553653</td>\n",
       "    </tr>\n",
       "    <tr>\n",
       "      <th>12</th>\n",
       "      <td>Kansas City Chiefs</td>\n",
       "      <td>/teams/kan/2024.htm</td>\n",
       "      <td>15.0</td>\n",
       "      <td>2.0</td>\n",
       "      <td>0.882</td>\n",
       "      <td>385.0</td>\n",
       "      <td>326.0</td>\n",
       "      <td>59.0</td>\n",
       "      <td>3.5</td>\n",
       "      <td>0.7</td>\n",
       "      <td>4.2</td>\n",
       "      <td>-0.2</td>\n",
       "      <td>4.4</td>\n",
       "      <td>0.541491</td>\n",
       "    </tr>\n",
       "    <tr>\n",
       "      <th>5</th>\n",
       "      <td>Pittsburgh Steelers</td>\n",
       "      <td>/teams/pit/2024.htm</td>\n",
       "      <td>10.0</td>\n",
       "      <td>7.0</td>\n",
       "      <td>0.588</td>\n",
       "      <td>380.0</td>\n",
       "      <td>347.0</td>\n",
       "      <td>33.0</td>\n",
       "      <td>1.9</td>\n",
       "      <td>0.1</td>\n",
       "      <td>2.1</td>\n",
       "      <td>-0.7</td>\n",
       "      <td>2.8</td>\n",
       "      <td>0.522696</td>\n",
       "    </tr>\n",
       "    <tr>\n",
       "      <th>6</th>\n",
       "      <td>Cincinnati Bengals</td>\n",
       "      <td>/teams/cin/2024.htm</td>\n",
       "      <td>9.0</td>\n",
       "      <td>8.0</td>\n",
       "      <td>0.529</td>\n",
       "      <td>472.0</td>\n",
       "      <td>434.0</td>\n",
       "      <td>38.0</td>\n",
       "      <td>2.2</td>\n",
       "      <td>-0.8</td>\n",
       "      <td>1.4</td>\n",
       "      <td>5.0</td>\n",
       "      <td>-3.6</td>\n",
       "      <td>0.520971</td>\n",
       "    </tr>\n",
       "    <tr>\n",
       "      <th>30</th>\n",
       "      <td>Arizona Cardinals</td>\n",
       "      <td>/teams/crd/2024.htm</td>\n",
       "      <td>8.0</td>\n",
       "      <td>9.0</td>\n",
       "      <td>0.471</td>\n",
       "      <td>400.0</td>\n",
       "      <td>379.0</td>\n",
       "      <td>21.0</td>\n",
       "      <td>1.2</td>\n",
       "      <td>0.9</td>\n",
       "      <td>2.1</td>\n",
       "      <td>0.8</td>\n",
       "      <td>1.2</td>\n",
       "      <td>0.513479</td>\n",
       "    </tr>\n",
       "    <tr>\n",
       "      <th>29</th>\n",
       "      <td>Seattle Seahawks</td>\n",
       "      <td>/teams/sea/2024.htm</td>\n",
       "      <td>10.0</td>\n",
       "      <td>7.0</td>\n",
       "      <td>0.588</td>\n",
       "      <td>375.0</td>\n",
       "      <td>368.0</td>\n",
       "      <td>7.0</td>\n",
       "      <td>0.4</td>\n",
       "      <td>0.8</td>\n",
       "      <td>1.3</td>\n",
       "      <td>-0.3</td>\n",
       "      <td>1.5</td>\n",
       "      <td>0.504711</td>\n",
       "    </tr>\n",
       "    <tr>\n",
       "      <th>8</th>\n",
       "      <td>Houston Texans</td>\n",
       "      <td>/teams/htx/2024.htm</td>\n",
       "      <td>10.0</td>\n",
       "      <td>7.0</td>\n",
       "      <td>0.588</td>\n",
       "      <td>372.0</td>\n",
       "      <td>372.0</td>\n",
       "      <td>0.0</td>\n",
       "      <td>0.0</td>\n",
       "      <td>-0.7</td>\n",
       "      <td>-0.7</td>\n",
       "      <td>-1.5</td>\n",
       "      <td>0.8</td>\n",
       "      <td>0.5</td>\n",
       "    </tr>\n",
       "    <tr>\n",
       "      <th>28</th>\n",
       "      <td>Los Angeles Rams</td>\n",
       "      <td>/teams/ram/2024.htm</td>\n",
       "      <td>10.0</td>\n",
       "      <td>7.0</td>\n",
       "      <td>0.588</td>\n",
       "      <td>367.0</td>\n",
       "      <td>386.0</td>\n",
       "      <td>-19.0</td>\n",
       "      <td>-1.1</td>\n",
       "      <td>1.1</td>\n",
       "      <td>-0.1</td>\n",
       "      <td>-0.6</td>\n",
       "      <td>0.6</td>\n",
       "      <td>0.487384</td>\n",
       "    </tr>\n",
       "    <tr>\n",
       "      <th>1</th>\n",
       "      <td>Miami Dolphins</td>\n",
       "      <td>/teams/mia/2024.htm</td>\n",
       "      <td>8.0</td>\n",
       "      <td>9.0</td>\n",
       "      <td>0.471</td>\n",
       "      <td>345.0</td>\n",
       "      <td>364.0</td>\n",
       "      <td>-19.0</td>\n",
       "      <td>-1.1</td>\n",
       "      <td>-1.9</td>\n",
       "      <td>-3.0</td>\n",
       "      <td>-3.5</td>\n",
       "      <td>0.4</td>\n",
       "      <td>0.486601</td>\n",
       "    </tr>\n",
       "    <tr>\n",
       "      <th>25</th>\n",
       "      <td>Atlanta Falcons</td>\n",
       "      <td>/teams/atl/2024.htm</td>\n",
       "      <td>8.0</td>\n",
       "      <td>9.0</td>\n",
       "      <td>0.471</td>\n",
       "      <td>389.0</td>\n",
       "      <td>423.0</td>\n",
       "      <td>-34.0</td>\n",
       "      <td>-2.0</td>\n",
       "      <td>-0.2</td>\n",
       "      <td>-2.2</td>\n",
       "      <td>0.0</td>\n",
       "      <td>-2.2</td>\n",
       "      <td>0.479064</td>\n",
       "    </tr>\n",
       "    <tr>\n",
       "      <th>31</th>\n",
       "      <td>San Francisco 49ers</td>\n",
       "      <td>/teams/sfo/2024.htm</td>\n",
       "      <td>6.0</td>\n",
       "      <td>11.0</td>\n",
       "      <td>0.353</td>\n",
       "      <td>389.0</td>\n",
       "      <td>436.0</td>\n",
       "      <td>-47.0</td>\n",
       "      <td>-2.8</td>\n",
       "      <td>1.6</td>\n",
       "      <td>-1.2</td>\n",
       "      <td>0.9</td>\n",
       "      <td>-2.1</td>\n",
       "      <td>0.471515</td>\n",
       "    </tr>\n",
       "    <tr>\n",
       "      <th>9</th>\n",
       "      <td>Indianapolis Colts</td>\n",
       "      <td>/teams/clt/2024.htm</td>\n",
       "      <td>8.0</td>\n",
       "      <td>9.0</td>\n",
       "      <td>0.471</td>\n",
       "      <td>377.0</td>\n",
       "      <td>427.0</td>\n",
       "      <td>-50.0</td>\n",
       "      <td>-2.9</td>\n",
       "      <td>-0.7</td>\n",
       "      <td>-3.7</td>\n",
       "      <td>-0.5</td>\n",
       "      <td>-3.2</td>\n",
       "      <td>0.468905</td>\n",
       "    </tr>\n",
       "    <tr>\n",
       "      <th>27</th>\n",
       "      <td>New Orleans Saints</td>\n",
       "      <td>/teams/nor/2024.htm</td>\n",
       "      <td>5.0</td>\n",
       "      <td>12.0</td>\n",
       "      <td>0.294</td>\n",
       "      <td>338.0</td>\n",
       "      <td>398.0</td>\n",
       "      <td>-60.0</td>\n",
       "      <td>-3.5</td>\n",
       "      <td>-0.6</td>\n",
       "      <td>-4.1</td>\n",
       "      <td>-3.6</td>\n",
       "      <td>-0.5</td>\n",
       "      <td>0.459239</td>\n",
       "    </tr>\n",
       "    <tr>\n",
       "      <th>23</th>\n",
       "      <td>Chicago Bears</td>\n",
       "      <td>/teams/chi/2024.htm</td>\n",
       "      <td>5.0</td>\n",
       "      <td>12.0</td>\n",
       "      <td>0.294</td>\n",
       "      <td>310.0</td>\n",
       "      <td>370.0</td>\n",
       "      <td>-60.0</td>\n",
       "      <td>-3.5</td>\n",
       "      <td>1.2</td>\n",
       "      <td>-2.3</td>\n",
       "      <td>-4.8</td>\n",
       "      <td>2.4</td>\n",
       "      <td>0.455882</td>\n",
       "    </tr>\n",
       "    <tr>\n",
       "      <th>2</th>\n",
       "      <td>New York Jets</td>\n",
       "      <td>/teams/nyj/2024.htm</td>\n",
       "      <td>5.0</td>\n",
       "      <td>12.0</td>\n",
       "      <td>0.294</td>\n",
       "      <td>338.0</td>\n",
       "      <td>404.0</td>\n",
       "      <td>-66.0</td>\n",
       "      <td>-3.9</td>\n",
       "      <td>-0.5</td>\n",
       "      <td>-4.3</td>\n",
       "      <td>-3.0</td>\n",
       "      <td>-1.4</td>\n",
       "      <td>0.455526</td>\n",
       "    </tr>\n",
       "    <tr>\n",
       "      <th>18</th>\n",
       "      <td>Dallas Cowboys</td>\n",
       "      <td>/teams/dal/2024.htm</td>\n",
       "      <td>7.0</td>\n",
       "      <td>10.0</td>\n",
       "      <td>0.412</td>\n",
       "      <td>350.0</td>\n",
       "      <td>468.0</td>\n",
       "      <td>-118.0</td>\n",
       "      <td>-6.9</td>\n",
       "      <td>0.6</td>\n",
       "      <td>-6.3</td>\n",
       "      <td>-2.6</td>\n",
       "      <td>-3.7</td>\n",
       "      <td>0.427873</td>\n",
       "    </tr>\n",
       "    <tr>\n",
       "      <th>10</th>\n",
       "      <td>Jacksonville Jaguars</td>\n",
       "      <td>/teams/jax/2024.htm</td>\n",
       "      <td>4.0</td>\n",
       "      <td>13.0</td>\n",
       "      <td>0.235</td>\n",
       "      <td>320.0</td>\n",
       "      <td>435.0</td>\n",
       "      <td>-115.0</td>\n",
       "      <td>-6.8</td>\n",
       "      <td>-0.8</td>\n",
       "      <td>-7.5</td>\n",
       "      <td>-4.2</td>\n",
       "      <td>-3.4</td>\n",
       "      <td>0.423841</td>\n",
       "    </tr>\n",
       "    <tr>\n",
       "      <th>15</th>\n",
       "      <td>Las Vegas Raiders</td>\n",
       "      <td>/teams/rai/2024.htm</td>\n",
       "      <td>4.0</td>\n",
       "      <td>13.0</td>\n",
       "      <td>0.235</td>\n",
       "      <td>309.0</td>\n",
       "      <td>434.0</td>\n",
       "      <td>-125.0</td>\n",
       "      <td>-7.4</td>\n",
       "      <td>1.0</td>\n",
       "      <td>-6.4</td>\n",
       "      <td>-3.9</td>\n",
       "      <td>-2.5</td>\n",
       "      <td>0.415882</td>\n",
       "    </tr>\n",
       "    <tr>\n",
       "      <th>3</th>\n",
       "      <td>New England Patriots</td>\n",
       "      <td>/teams/nwe/2024.htm</td>\n",
       "      <td>4.0</td>\n",
       "      <td>13.0</td>\n",
       "      <td>0.235</td>\n",
       "      <td>289.0</td>\n",
       "      <td>417.0</td>\n",
       "      <td>-128.0</td>\n",
       "      <td>-7.5</td>\n",
       "      <td>-0.6</td>\n",
       "      <td>-8.1</td>\n",
       "      <td>-6.2</td>\n",
       "      <td>-1.9</td>\n",
       "      <td>0.409348</td>\n",
       "    </tr>\n",
       "    <tr>\n",
       "      <th>11</th>\n",
       "      <td>Tennessee Titans</td>\n",
       "      <td>/teams/oti/2024.htm</td>\n",
       "      <td>3.0</td>\n",
       "      <td>14.0</td>\n",
       "      <td>0.176</td>\n",
       "      <td>311.0</td>\n",
       "      <td>460.0</td>\n",
       "      <td>-149.0</td>\n",
       "      <td>-8.8</td>\n",
       "      <td>0.4</td>\n",
       "      <td>-8.4</td>\n",
       "      <td>-4.7</td>\n",
       "      <td>-3.7</td>\n",
       "      <td>0.403372</td>\n",
       "    </tr>\n",
       "    <tr>\n",
       "      <th>19</th>\n",
       "      <td>New York Giants</td>\n",
       "      <td>/teams/nyg/2024.htm</td>\n",
       "      <td>3.0</td>\n",
       "      <td>14.0</td>\n",
       "      <td>0.176</td>\n",
       "      <td>273.0</td>\n",
       "      <td>415.0</td>\n",
       "      <td>-142.0</td>\n",
       "      <td>-8.4</td>\n",
       "      <td>0.3</td>\n",
       "      <td>-8.0</td>\n",
       "      <td>-7.5</td>\n",
       "      <td>-0.5</td>\n",
       "      <td>0.396802</td>\n",
       "    </tr>\n",
       "    <tr>\n",
       "      <th>26</th>\n",
       "      <td>Carolina Panthers</td>\n",
       "      <td>/teams/car/2024.htm</td>\n",
       "      <td>5.0</td>\n",
       "      <td>12.0</td>\n",
       "      <td>0.294</td>\n",
       "      <td>341.0</td>\n",
       "      <td>534.0</td>\n",
       "      <td>-193.0</td>\n",
       "      <td>-11.4</td>\n",
       "      <td>0.4</td>\n",
       "      <td>-11.0</td>\n",
       "      <td>-2.6</td>\n",
       "      <td>-8.4</td>\n",
       "      <td>0.389714</td>\n",
       "    </tr>\n",
       "    <tr>\n",
       "      <th>7</th>\n",
       "      <td>Cleveland Browns</td>\n",
       "      <td>/teams/cle/2024.htm</td>\n",
       "      <td>3.0</td>\n",
       "      <td>14.0</td>\n",
       "      <td>0.176</td>\n",
       "      <td>258.0</td>\n",
       "      <td>435.0</td>\n",
       "      <td>-177.0</td>\n",
       "      <td>-10.4</td>\n",
       "      <td>1.2</td>\n",
       "      <td>-9.2</td>\n",
       "      <td>-7.1</td>\n",
       "      <td>-2.1</td>\n",
       "      <td>0.372294</td>\n",
       "    </tr>\n",
       "  </tbody>\n",
       "</table>\n",
       "</div>"
      ],
      "text/plain": [
       "                       Tm              Tm Link     W     L   W-L%     PF  \\\n",
       "20          Detroit Lions  /teams/det/2024.htm  15.0   2.0  0.882  564.0   \n",
       "16    Philadelphia Eagles  /teams/phi/2024.htm  14.0   3.0  0.824  463.0   \n",
       "4        Baltimore Ravens  /teams/rav/2024.htm  12.0   5.0  0.706  518.0   \n",
       "0           Buffalo Bills  /teams/buf/2024.htm  13.0   4.0  0.765  525.0   \n",
       "14         Denver Broncos  /teams/den/2024.htm  10.0   7.0  0.588  425.0   \n",
       "22      Green Bay Packers  /teams/gnb/2024.htm  11.0   6.0  0.647  460.0   \n",
       "13   Los Angeles Chargers  /teams/sdg/2024.htm  11.0   6.0  0.647  402.0   \n",
       "24   Tampa Bay Buccaneers  /teams/tam/2024.htm  10.0   7.0  0.588  502.0   \n",
       "21      Minnesota Vikings  /teams/min/2024.htm  14.0   3.0  0.824  432.0   \n",
       "17  Washington Commanders  /teams/was/2024.htm  12.0   5.0  0.706  485.0   \n",
       "12     Kansas City Chiefs  /teams/kan/2024.htm  15.0   2.0  0.882  385.0   \n",
       "5     Pittsburgh Steelers  /teams/pit/2024.htm  10.0   7.0  0.588  380.0   \n",
       "6      Cincinnati Bengals  /teams/cin/2024.htm   9.0   8.0  0.529  472.0   \n",
       "30      Arizona Cardinals  /teams/crd/2024.htm   8.0   9.0  0.471  400.0   \n",
       "29       Seattle Seahawks  /teams/sea/2024.htm  10.0   7.0  0.588  375.0   \n",
       "8          Houston Texans  /teams/htx/2024.htm  10.0   7.0  0.588  372.0   \n",
       "28       Los Angeles Rams  /teams/ram/2024.htm  10.0   7.0  0.588  367.0   \n",
       "1          Miami Dolphins  /teams/mia/2024.htm   8.0   9.0  0.471  345.0   \n",
       "25        Atlanta Falcons  /teams/atl/2024.htm   8.0   9.0  0.471  389.0   \n",
       "31    San Francisco 49ers  /teams/sfo/2024.htm   6.0  11.0  0.353  389.0   \n",
       "9      Indianapolis Colts  /teams/clt/2024.htm   8.0   9.0  0.471  377.0   \n",
       "27     New Orleans Saints  /teams/nor/2024.htm   5.0  12.0  0.294  338.0   \n",
       "23          Chicago Bears  /teams/chi/2024.htm   5.0  12.0  0.294  310.0   \n",
       "2           New York Jets  /teams/nyj/2024.htm   5.0  12.0  0.294  338.0   \n",
       "18         Dallas Cowboys  /teams/dal/2024.htm   7.0  10.0  0.412  350.0   \n",
       "10   Jacksonville Jaguars  /teams/jax/2024.htm   4.0  13.0  0.235  320.0   \n",
       "15      Las Vegas Raiders  /teams/rai/2024.htm   4.0  13.0  0.235  309.0   \n",
       "3    New England Patriots  /teams/nwe/2024.htm   4.0  13.0  0.235  289.0   \n",
       "11       Tennessee Titans  /teams/oti/2024.htm   3.0  14.0  0.176  311.0   \n",
       "19        New York Giants  /teams/nyg/2024.htm   3.0  14.0  0.176  273.0   \n",
       "26      Carolina Panthers  /teams/car/2024.htm   5.0  12.0  0.294  341.0   \n",
       "7        Cleveland Browns  /teams/cle/2024.htm   3.0  14.0  0.176  258.0   \n",
       "\n",
       "       PA     PD   MoV  SoS   SRS  OSRS DSRS   Prop_PF  \n",
       "20  342.0  222.0  13.1  0.7  13.8  10.6  3.2  0.622517  \n",
       "16  303.0  160.0   9.4 -1.7   7.7   3.0  4.7  0.604439  \n",
       "4   361.0  157.0   9.2  0.6   9.9   8.0  1.9  0.589306  \n",
       "0   368.0  157.0   9.2 -1.1   8.1   7.8  0.3  0.587906  \n",
       "14  311.0  114.0   6.7 -0.3   6.4   2.1  4.3  0.577446  \n",
       "22  338.0  122.0   7.2  0.9   8.1   4.9  3.2  0.576441  \n",
       "13  301.0  101.0   5.9 -0.6   5.3   0.6  4.7  0.571835  \n",
       "24  385.0  117.0   6.9 -0.4   6.4   6.0  0.4  0.565953  \n",
       "21  332.0  100.0   5.9  0.3   6.2   2.8  3.4  0.565445  \n",
       "17  391.0   94.0   5.5 -1.8   3.7   4.9 -1.2  0.553653  \n",
       "12  326.0   59.0   3.5  0.7   4.2  -0.2  4.4  0.541491  \n",
       "5   347.0   33.0   1.9  0.1   2.1  -0.7  2.8  0.522696  \n",
       "6   434.0   38.0   2.2 -0.8   1.4   5.0 -3.6  0.520971  \n",
       "30  379.0   21.0   1.2  0.9   2.1   0.8  1.2  0.513479  \n",
       "29  368.0    7.0   0.4  0.8   1.3  -0.3  1.5  0.504711  \n",
       "8   372.0    0.0   0.0 -0.7  -0.7  -1.5  0.8       0.5  \n",
       "28  386.0  -19.0  -1.1  1.1  -0.1  -0.6  0.6  0.487384  \n",
       "1   364.0  -19.0  -1.1 -1.9  -3.0  -3.5  0.4  0.486601  \n",
       "25  423.0  -34.0  -2.0 -0.2  -2.2   0.0 -2.2  0.479064  \n",
       "31  436.0  -47.0  -2.8  1.6  -1.2   0.9 -2.1  0.471515  \n",
       "9   427.0  -50.0  -2.9 -0.7  -3.7  -0.5 -3.2  0.468905  \n",
       "27  398.0  -60.0  -3.5 -0.6  -4.1  -3.6 -0.5  0.459239  \n",
       "23  370.0  -60.0  -3.5  1.2  -2.3  -4.8  2.4  0.455882  \n",
       "2   404.0  -66.0  -3.9 -0.5  -4.3  -3.0 -1.4  0.455526  \n",
       "18  468.0 -118.0  -6.9  0.6  -6.3  -2.6 -3.7  0.427873  \n",
       "10  435.0 -115.0  -6.8 -0.8  -7.5  -4.2 -3.4  0.423841  \n",
       "15  434.0 -125.0  -7.4  1.0  -6.4  -3.9 -2.5  0.415882  \n",
       "3   417.0 -128.0  -7.5 -0.6  -8.1  -6.2 -1.9  0.409348  \n",
       "11  460.0 -149.0  -8.8  0.4  -8.4  -4.7 -3.7  0.403372  \n",
       "19  415.0 -142.0  -8.4  0.3  -8.0  -7.5 -0.5  0.396802  \n",
       "26  534.0 -193.0 -11.4  0.4 -11.0  -2.6 -8.4  0.389714  \n",
       "7   435.0 -177.0 -10.4  1.2  -9.2  -7.1 -2.1  0.372294  "
      ]
     },
     "execution_count": 156,
     "metadata": {},
     "output_type": "execute_result"
    }
   ],
   "source": [
    "df.sort_values(by='Prop_PF', ascending=False)"
   ]
  },
  {
   "cell_type": "markdown",
   "id": "38581548",
   "metadata": {},
   "source": [
    "# Plotting"
   ]
  },
  {
   "cell_type": "code",
   "execution_count": null,
   "id": "8411b6d6",
   "metadata": {},
   "outputs": [],
   "source": [
    "%pip install matplotlib pillow tqdm"
   ]
  },
  {
   "cell_type": "code",
   "execution_count": 167,
   "id": "03d76291",
   "metadata": {},
   "outputs": [],
   "source": [
    "def extract_team_logo(url: str):\n",
    "    response = requests.get(url)\n",
    "    soup = BeautifulSoup(response.content, 'html.parser')\n",
    "    \n",
    "    img_url = soup.find('img', {'class': 'teamlogo'})['src']\n",
    "    return img_url\n",
    "    "
   ]
  },
  {
   "cell_type": "code",
   "execution_count": 197,
   "id": "6ed8181a",
   "metadata": {},
   "outputs": [],
   "source": [
    "from io import BytesIO\n",
    "from PIL import Image\n",
    "import time\n",
    "from tqdm import tqdm\n",
    "\n",
    "def img_list(urls: list):\n",
    "    img_list = []\n",
    "    base_url = 'https://www.pro-football-reference.com'\n",
    "    \n",
    "    for url in tqdm(urls, desc='Scraping Logos'):\n",
    "        fmt_url = base_url + url\n",
    "        img_url = extract_team_logo(fmt_url)\n",
    "        \n",
    "        response = requests.get(img_url)\n",
    "        img_loaded = Image.open(BytesIO(response.content))\n",
    "        \n",
    "        img_list.append(img_loaded)\n",
    "        \n",
    "        time.sleep(5)\n",
    "        \n",
    "    return img_list "
   ]
  },
  {
   "cell_type": "code",
   "execution_count": 198,
   "id": "38dd2242",
   "metadata": {},
   "outputs": [
    {
     "name": "stderr",
     "output_type": "stream",
     "text": [
      "Scraping Logos: 100%|███████████████████████████| 32/32 [02:56<00:00,  5.51s/it]\n"
     ]
    }
   ],
   "source": [
    "logos = img_list(df['Tm Link'])"
   ]
  },
  {
   "cell_type": "code",
   "execution_count": 233,
   "id": "78a58cc7",
   "metadata": {},
   "outputs": [
    {
     "data": {
      "image/png": "[encoded data removed]",
      "text/plain": [
       "<Figure size 640x480 with 1 Axes>"
      ]
     },
     "metadata": {},
     "output_type": "display_data"
    }
   ],
   "source": [
    "import matplotlib.pyplot as plt\n",
    "from matplotlib.offsetbox import AnnotationBbox, OffsetImage\n",
    "\n",
    "fig, ax = plt.subplots()\n",
    "\n",
    "\n",
    "plt.scatter(df['W'], df['PD'], c='white')\n",
    "\n",
    "for logo, x, y in zip(logos, df['W'], df['PD']):\n",
    "    img = logo.convert('RGB')\n",
    "    \n",
    "    img = OffsetImage(img, zoom=0.2, resample=True, alpha = 0.6)\n",
    "    annot = AnnotationBbox(img, (x, y), frameon=False)\n",
    "    ax.add_artist(annot)\n",
    "    \n",
    "plt.xlabel('Wins')\n",
    "plt.ylabel('Point Differential')\n",
    "plt.title('Relationship Between Wins and Point Differential')\n",
    "\n",
    "plt.plot(df['W'], df['PD_pred'], c = 'red')\n",
    "plt.text(10, -300, 'Data: Pro Football Reference')\n",
    "\n",
    "plt.show()"
   ]
  },
  {
   "cell_type": "markdown",
   "id": "60ba381b",
   "metadata": {},
   "source": [
    "# Simple Regression Model"
   ]
  },
  {
   "cell_type": "code",
   "execution_count": null,
   "id": "78b898c0",
   "metadata": {},
   "outputs": [],
   "source": [
    "%pip install scikit-learn numpy"
   ]
  },
  {
   "cell_type": "code",
   "execution_count": 219,
   "id": "e8b2b2cc",
   "metadata": {},
   "outputs": [
    {
     "data": {
      "text/html": [
       "<style>#sk-container-id-1 {color: black;background-color: white;}#sk-container-id-1 pre{padding: 0;}#sk-container-id-1 div.sk-toggleable {background-color: white;}#sk-container-id-1 label.sk-toggleable__label {cursor: pointer;display: block;width: 100%;margin-bottom: 0;padding: 0.3em;box-sizing: border-box;text-align: center;}#sk-container-id-1 label.sk-toggleable__label-arrow:before {content: \"▸\";float: left;margin-right: 0.25em;color: #696969;}#sk-container-id-1 label.sk-toggleable__label-arrow:hover:before {color: black;}#sk-container-id-1 div.sk-estimator:hover label.sk-toggleable__label-arrow:before {color: black;}#sk-container-id-1 div.sk-toggleable__content {max-height: 0;max-width: 0;overflow: hidden;text-align: left;background-color: #f0f8ff;}#sk-container-id-1 div.sk-toggleable__content pre {margin: 0.2em;color: black;border-radius: 0.25em;background-color: #f0f8ff;}#sk-container-id-1 input.sk-toggleable__control:checked~div.sk-toggleable__content {max-height: 200px;max-width: 100%;overflow: auto;}#sk-container-id-1 input.sk-toggleable__control:checked~label.sk-toggleable__label-arrow:before {content: \"▾\";}#sk-container-id-1 div.sk-estimator input.sk-toggleable__control:checked~label.sk-toggleable__label {background-color: #d4ebff;}#sk-container-id-1 div.sk-label input.sk-toggleable__control:checked~label.sk-toggleable__label {background-color: #d4ebff;}#sk-container-id-1 input.sk-hidden--visually {border: 0;clip: rect(1px 1px 1px 1px);clip: rect(1px, 1px, 1px, 1px);height: 1px;margin: -1px;overflow: hidden;padding: 0;position: absolute;width: 1px;}#sk-container-id-1 div.sk-estimator {font-family: monospace;background-color: #f0f8ff;border: 1px dotted black;border-radius: 0.25em;box-sizing: border-box;margin-bottom: 0.5em;}#sk-container-id-1 div.sk-estimator:hover {background-color: #d4ebff;}#sk-container-id-1 div.sk-parallel-item::after {content: \"\";width: 100%;border-bottom: 1px solid gray;flex-grow: 1;}#sk-container-id-1 div.sk-label:hover label.sk-toggleable__label {background-color: #d4ebff;}#sk-container-id-1 div.sk-serial::before {content: \"\";position: absolute;border-left: 1px solid gray;box-sizing: border-box;top: 0;bottom: 0;left: 50%;z-index: 0;}#sk-container-id-1 div.sk-serial {display: flex;flex-direction: column;align-items: center;background-color: white;padding-right: 0.2em;padding-left: 0.2em;position: relative;}#sk-container-id-1 div.sk-item {position: relative;z-index: 1;}#sk-container-id-1 div.sk-parallel {display: flex;align-items: stretch;justify-content: center;background-color: white;position: relative;}#sk-container-id-1 div.sk-item::before, #sk-container-id-1 div.sk-parallel-item::before {content: \"\";position: absolute;border-left: 1px solid gray;box-sizing: border-box;top: 0;bottom: 0;left: 50%;z-index: -1;}#sk-container-id-1 div.sk-parallel-item {display: flex;flex-direction: column;z-index: 1;position: relative;background-color: white;}#sk-container-id-1 div.sk-parallel-item:first-child::after {align-self: flex-end;width: 50%;}#sk-container-id-1 div.sk-parallel-item:last-child::after {align-self: flex-start;width: 50%;}#sk-container-id-1 div.sk-parallel-item:only-child::after {width: 0;}#sk-container-id-1 div.sk-dashed-wrapped {border: 1px dashed gray;margin: 0 0.4em 0.5em 0.4em;box-sizing: border-box;padding-bottom: 0.4em;background-color: white;}#sk-container-id-1 div.sk-label label {font-family: monospace;font-weight: bold;display: inline-block;line-height: 1.2em;}#sk-container-id-1 div.sk-label-container {text-align: center;}#sk-container-id-1 div.sk-container {/* jupyter's `normalize.less` sets `[hidden] { display: none; }` but bootstrap.min.css set `[hidden] { display: none !important; }` so we also need the `!important` here to be able to override the default hidden behavior on the sphinx rendered scikit-learn.org. See: https://github.com/scikit-learn/scikit-learn/issues/21755 */display: inline-block !important;position: relative;}#sk-container-id-1 div.sk-text-repr-fallback {display: none;}</style><div id=\"sk-container-id-1\" class=\"sk-top-container\"><div class=\"sk-text-repr-fallback\"><pre>LinearRegression()</pre><b>In a Jupyter environment, please rerun this cell to show the HTML representation or trust the notebook. <br />On GitHub, the HTML representation is unable to render, please try loading this page with nbviewer.org.</b></div><div class=\"sk-container\" hidden><div class=\"sk-item\"><div class=\"sk-estimator sk-toggleable\"><input class=\"sk-toggleable__control sk-hidden--visually\" id=\"sk-estimator-id-1\" type=\"checkbox\" checked><label for=\"sk-estimator-id-1\" class=\"sk-toggleable__label sk-toggleable__label-arrow\">LinearRegression</label><div class=\"sk-toggleable__content\"><pre>LinearRegression()</pre></div></div></div></div></div>"
      ],
      "text/plain": [
       "LinearRegression()"
      ]
     },
     "execution_count": 219,
     "metadata": {},
     "output_type": "execute_result"
    }
   ],
   "source": [
    "from sklearn.linear_model import LinearRegression\n",
    "\n",
    "reg = LinearRegression()\n",
    "\n",
    "reg.fit(df[['W']], df['PD'])\n"
   ]
  },
  {
   "cell_type": "code",
   "execution_count": 220,
   "id": "f388b33e",
   "metadata": {},
   "outputs": [
    {
     "data": {
      "text/plain": [
       "array([27.43661972])"
      ]
     },
     "execution_count": 220,
     "metadata": {},
     "output_type": "execute_result"
    }
   ],
   "source": [
    "reg.coef_"
   ]
  },
  {
   "cell_type": "code",
   "execution_count": 221,
   "id": "94c9beb3",
   "metadata": {},
   "outputs": [
    {
     "data": {
      "text/plain": [
       "-233.2112676056339"
      ]
     },
     "execution_count": 221,
     "metadata": {},
     "output_type": "execute_result"
    }
   ],
   "source": [
    "reg.intercept_"
   ]
  },
  {
   "cell_type": "markdown",
   "id": "7a4ae325",
   "metadata": {},
   "source": [
    "$y = 27.437x - 233.211$"
   ]
  },
  {
   "cell_type": "code",
   "execution_count": 224,
   "id": "f3408e59",
   "metadata": {},
   "outputs": [],
   "source": [
    "df['PD_pred'] = reg.predict(df[['W']])"
   ]
  },
  {
   "cell_type": "code",
   "execution_count": 227,
   "id": "12157921",
   "metadata": {},
   "outputs": [
    {
     "name": "stdout",
     "output_type": "stream",
     "text": [
      "R2 Score: 0.8232338250318472\n",
      "RMSE: 46.387225050517124\n"
     ]
    }
   ],
   "source": [
    "from sklearn.metrics import mean_squared_error, r2_score\n",
    "import numpy as np\n",
    "\n",
    "print('R2 Score:', r2_score(df['PD'], df['PD_pred']))\n",
    "print('RMSE:', np.sqrt(mean_squared_error(df['PD'], df['PD_pred'])))"
   ]
  }
 ],
 "metadata": {
  "kernelspec": {
   "display_name": "Python 3 (ipykernel)",
   "language": "python",
   "name": "python3"
  },
  "language_info": {
   "codemirror_mode": {
    "name": "ipython",
    "version": 3
   },
   "file_extension": ".py",
   "mimetype": "text/x-python",
   "name": "python",
   "nbconvert_exporter": "python",
   "pygments_lexer": "ipython3",
   "version": "3.11.7"
  }
 },
 "nbformat": 4,
 "nbformat_minor": 5
}
